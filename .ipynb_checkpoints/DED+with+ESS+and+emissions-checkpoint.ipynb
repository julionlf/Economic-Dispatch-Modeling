{
 "cells": [
  {
   "cell_type": "code",
   "execution_count": 1,
   "id": "ffe263f2",
   "metadata": {},
   "outputs": [],
   "source": [
    "from pyomo.environ import *"
   ]
  },
  {
   "cell_type": "code",
   "execution_count": 2,
   "id": "b53ed1c6",
   "metadata": {},
   "outputs": [],
   "source": [
    "import matplotlib.pyplot as plt"
   ]
  },
  {
   "cell_type": "code",
   "execution_count": 3,
   "id": "553af2ff",
   "metadata": {},
   "outputs": [],
   "source": [
    "import pandas as pd\n",
    "import numpy as np"
   ]
  },
  {
   "cell_type": "code",
   "execution_count": 4,
   "id": "0eb46569",
   "metadata": {},
   "outputs": [],
   "source": [
    "from pyomo.opt import SolverFactory"
   ]
  },
  {
   "cell_type": "code",
   "execution_count": 5,
   "id": "82c8aaf1",
   "metadata": {},
   "outputs": [],
   "source": [
    "from pyomo.environ import ConcreteModel, Constraint, Objective"
   ]
  },
  {
   "cell_type": "markdown",
   "id": "dec723dd",
   "metadata": {},
   "source": [
    "## input parameters"
   ]
  },
  {
   "cell_type": "markdown",
   "id": "85edc563",
   "metadata": {},
   "source": [
    "##### constants"
   ]
  },
  {
   "cell_type": "code",
   "execution_count": 6,
   "id": "0e60815b",
   "metadata": {},
   "outputs": [],
   "source": [
    "SOC0 = 100   # MWh\n",
    "\n",
    "SOCmax = 300 # MWh\n",
    "\n",
    "etac = 0.95  #efficiency of charging\n",
    "\n",
    "etad = 0.9   #efficiency of discharging"
   ]
  },
  {
   "cell_type": "code",
   "execution_count": null,
   "id": "d0591a16",
   "metadata": {},
   "outputs": [],
   "source": []
  },
  {
   "cell_type": "markdown",
   "id": "1ddcc594",
   "metadata": {},
   "source": [
    "##### sets"
   ]
  },
  {
   "cell_type": "code",
   "execution_count": 7,
   "id": "032d3ddc",
   "metadata": {},
   "outputs": [
    {
     "data": {
      "text/plain": [
       "['t1',\n",
       " 't2',\n",
       " 't3',\n",
       " 't4',\n",
       " 't5',\n",
       " 't6',\n",
       " 't7',\n",
       " 't8',\n",
       " 't9',\n",
       " 't10',\n",
       " 't11',\n",
       " 't12',\n",
       " 't13',\n",
       " 't14',\n",
       " 't15',\n",
       " 't16',\n",
       " 't17',\n",
       " 't18',\n",
       " 't19',\n",
       " 't20',\n",
       " 't21',\n",
       " 't22',\n",
       " 't23',\n",
       " 't24']"
      ]
     },
     "execution_count": 7,
     "metadata": {},
     "output_type": "execute_result"
    }
   ],
   "source": [
    "t_hours = ['t1', 't2', 't3', 't4', 't5', 't6', 't7', 't8', 't9', 't10', 't11', 't12', 't13', 't14', 't15', 't16', 't17', 't18', 't19', 't20', 't21', 't22', 't23', 't24']\n",
    "t_hours #time period"
   ]
  },
  {
   "cell_type": "code",
   "execution_count": 8,
   "id": "901ecdd1",
   "metadata": {},
   "outputs": [
    {
     "data": {
      "text/plain": [
       "list"
      ]
     },
     "execution_count": 8,
     "metadata": {},
     "output_type": "execute_result"
    }
   ],
   "source": [
    "type(t_hours)"
   ]
  },
  {
   "cell_type": "code",
   "execution_count": null,
   "id": "650fee84",
   "metadata": {},
   "outputs": [],
   "source": []
  },
  {
   "cell_type": "code",
   "execution_count": 9,
   "id": "492bd2cf",
   "metadata": {
    "scrolled": true
   },
   "outputs": [
    {
     "data": {
      "text/plain": [
       "['p1', 'p2', 'p3', 'p4']"
      ]
     },
     "execution_count": 9,
     "metadata": {},
     "output_type": "execute_result"
    }
   ],
   "source": [
    "g_units = ['p1', 'p2', 'p3', 'p4']  # the power system has 4 thermal power stations\n",
    "g_units"
   ]
  },
  {
   "cell_type": "code",
   "execution_count": 10,
   "id": "cf78bf5f",
   "metadata": {},
   "outputs": [
    {
     "data": {
      "text/plain": [
       "list"
      ]
     },
     "execution_count": 10,
     "metadata": {},
     "output_type": "execute_result"
    }
   ],
   "source": [
    "type(g_units)"
   ]
  },
  {
   "cell_type": "code",
   "execution_count": null,
   "id": "66af0ccd",
   "metadata": {},
   "outputs": [],
   "source": []
  },
  {
   "cell_type": "code",
   "execution_count": null,
   "id": "9fdaff9c",
   "metadata": {},
   "outputs": [],
   "source": []
  },
  {
   "cell_type": "markdown",
   "id": "62ad8d62",
   "metadata": {},
   "source": [
    "##### constants (dictionary form)"
   ]
  },
  {
   "cell_type": "code",
   "execution_count": 11,
   "id": "a17201f8",
   "metadata": {
    "scrolled": true
   },
   "outputs": [
    {
     "data": {
      "text/plain": [
       "{('p1', 'a'): 0.12,\n",
       " ('p1', 'b'): 14.8,\n",
       " ('p1', 'c'): 89,\n",
       " ('p1', 'd'): 1.2,\n",
       " ('p1', 'e'): -5.0,\n",
       " ('p1', 'f'): 3.0,\n",
       " ('p1', 'Pmin'): 28,\n",
       " ('p1', 'Pmax'): 200,\n",
       " ('p1', 'RU0'): 40,\n",
       " ('p1', 'RD0'): 40,\n",
       " ('p2', 'a'): 0.17,\n",
       " ('p2', 'b'): 16.57,\n",
       " ('p2', 'c'): 83,\n",
       " ('p2', 'd'): 2.3,\n",
       " ('p2', 'e'): -4.24,\n",
       " ('p2', 'f'): 6.09,\n",
       " ('p2', 'Pmin'): 20,\n",
       " ('p2', 'Pmax'): 290,\n",
       " ('p2', 'RU0'): 30,\n",
       " ('p2', 'RD0'): 30,\n",
       " ('p3', 'a'): 0.15,\n",
       " ('p3', 'b'): 15.55,\n",
       " ('p3', 'c'): 100,\n",
       " ('p3', 'd'): 1.1,\n",
       " ('p3', 'e'): -2.15,\n",
       " ('p3', 'f'): 5.69,\n",
       " ('p3', 'Pmin'): 30,\n",
       " ('p3', 'Pmax'): 190,\n",
       " ('p3', 'RU0'): 30,\n",
       " ('p3', 'RD0'): 30,\n",
       " ('p4', 'a'): 0.19,\n",
       " ('p4', 'b'): 16.21,\n",
       " ('p4', 'c'): 70,\n",
       " ('p4', 'd'): 1.1,\n",
       " ('p4', 'e'): -3.99,\n",
       " ('p4', 'f'): 6.2,\n",
       " ('p4', 'Pmin'): 20,\n",
       " ('p4', 'Pmax'): 260,\n",
       " ('p4', 'RU0'): 50,\n",
       " ('p4', 'RD0'): 50}"
      ]
     },
     "execution_count": 11,
     "metadata": {},
     "output_type": "execute_result"
    }
   ],
   "source": [
    "# a is in $ / MW^2   . fuel cost coefficient for a thermal unit\n",
    "# b is in $ / MW       fuel cost coefficient for a thermal unit\n",
    "# c is in $            fuel cost coefficient for a thermal unit\n",
    "# d is in kg CO2 / MW^2    emissions coefficient for a thermal unit\n",
    "# e is in kg CO2 / MW      emissions coefficient for a thermal unit\n",
    "# f is in kg CO2          emissions coefficient for a thermal unit\n",
    "# Pmin, Pmax are in MW.  Min and Max output limits for a thermal unit\n",
    "# RU, RD are in MW       Ramp up / down rates for a thermal unit\n",
    "\n",
    "#this is a dictionary . The key is a tuple. \n",
    "\n",
    "gendata = {\n",
    "    ('p1', 'a'): 0.12, \n",
    "    ('p1', 'b'): 14.80, \n",
    "    ('p1', 'c'):  89, \n",
    "    ('p1', 'd'): 1.2, \n",
    "    ('p1', 'e'): -5.00, \n",
    "    ('p1', 'f'): 3.00, \n",
    "    ('p1', 'Pmin'): 28, \n",
    "    ('p1', 'Pmax'): 200, \n",
    "    ('p1', 'RU0'): 40, \n",
    "    ('p1', 'RD0'): 40,\n",
    "    \n",
    "    ('p2', 'a'): 0.17, \n",
    "    ('p2', 'b'): 16.57, \n",
    "    ('p2', 'c'):  83, \n",
    "    ('p2', 'd'): 2.3, \n",
    "    ('p2', 'e'): -4.24, \n",
    "    ('p2', 'f'): 6.09, \n",
    "    ('p2', 'Pmin'): 20, \n",
    "    ('p2', 'Pmax'): 290, \n",
    "    ('p2', 'RU0'): 30, \n",
    "    ('p2', 'RD0'): 30,\n",
    "    \n",
    "    ('p3', 'a'): 0.15, \n",
    "    ('p3', 'b'): 15.55, \n",
    "    ('p3', 'c'): 100, \n",
    "    ('p3', 'd'): 1.1, \n",
    "    ('p3', 'e'): -2.15, \n",
    "    ('p3', 'f'): 5.69, \n",
    "    ('p3', 'Pmin'): 30, \n",
    "    ('p3', 'Pmax'): 190, \n",
    "    ('p3', 'RU0'): 30, \n",
    "    ('p3', 'RD0'): 30,\n",
    "    \n",
    "    ('p4', 'a'): 0.19, \n",
    "    ('p4', 'b'): 16.21, \n",
    "    ('p4', 'c'):  70, \n",
    "    ('p4', 'd'): 1.1, \n",
    "    ('p4', 'e'): -3.99, \n",
    "    ('p4', 'f'): 6.20, \n",
    "    ('p4', 'Pmin'): 20, \n",
    "    ('p4', 'Pmax'): 260, \n",
    "    ('p4', 'RU0'): 50, \n",
    "    ('p4', 'RD0'): 50\n",
    "}\n",
    "\n",
    "gendata"
   ]
  },
  {
   "cell_type": "code",
   "execution_count": 12,
   "id": "50122726",
   "metadata": {},
   "outputs": [
    {
     "data": {
      "text/plain": [
       "dict"
      ]
     },
     "execution_count": 12,
     "metadata": {},
     "output_type": "execute_result"
    }
   ],
   "source": [
    "type(gendata)"
   ]
  },
  {
   "cell_type": "code",
   "execution_count": 13,
   "id": "34a72343",
   "metadata": {},
   "outputs": [
    {
     "data": {
      "text/plain": [
       "0.12"
      ]
     },
     "execution_count": 13,
     "metadata": {},
     "output_type": "execute_result"
    }
   ],
   "source": [
    "gendata[('p1','a')] #this is how we print a value"
   ]
  },
  {
   "cell_type": "code",
   "execution_count": null,
   "id": "b473491d",
   "metadata": {},
   "outputs": [],
   "source": []
  },
  {
   "cell_type": "code",
   "execution_count": 14,
   "id": "b159b343",
   "metadata": {
    "id": "b159b343"
   },
   "outputs": [],
   "source": [
    "data = {\n",
    "    ('t1', 'load'):  510, \n",
    "    ('t2', 'load'):  530, \n",
    "    ('t3', 'load'):  516, \n",
    "    ('t4', 'load'):  510,  \n",
    "    ('t5', 'load'):  515,  \n",
    "    ('t6', 'load'):  544,  \n",
    "    ('t7', 'load'):  646,  \n",
    "    ('t8', 'load'):  686,  \n",
    "    ('t9', 'load'):  741,  \n",
    "    ('t10', 'load'): 734,  \n",
    "    ('t11', 'load'): 748,  \n",
    "    ('t12', 'load'): 760,  \n",
    "    ('t13', 'load'): 754,  \n",
    "    ('t14', 'load'): 700,  \n",
    "    ('t15', 'load'): 686,  \n",
    "    ('t16', 'load'): 720,  \n",
    "    ('t17', 'load'): 714,  \n",
    "    ('t18', 'load'): 761,  \n",
    "    ('t19', 'load'): 727,  \n",
    "    ('t20', 'load'): 714,  \n",
    "    ('t21', 'load'): 618, \n",
    "    ('t22', 'load'): 584,  \n",
    "    ('t23', 'load'): 578,  \n",
    "    ('t24', 'load'): 544,  \n",
    "}"
   ]
  },
  {
   "cell_type": "code",
   "execution_count": 15,
   "id": "1d447753",
   "metadata": {},
   "outputs": [
    {
     "data": {
      "text/plain": [
       "dict"
      ]
     },
     "execution_count": 15,
     "metadata": {},
     "output_type": "execute_result"
    }
   ],
   "source": [
    "type(data)"
   ]
  },
  {
   "cell_type": "code",
   "execution_count": null,
   "id": "7914d812",
   "metadata": {},
   "outputs": [],
   "source": []
  },
  {
   "cell_type": "code",
   "execution_count": null,
   "id": "7b3f0fb5",
   "metadata": {},
   "outputs": [],
   "source": []
  },
  {
   "cell_type": "code",
   "execution_count": null,
   "id": "04058580",
   "metadata": {},
   "outputs": [],
   "source": []
  },
  {
   "cell_type": "code",
   "execution_count": null,
   "id": "2e5762f0",
   "metadata": {},
   "outputs": [],
   "source": []
  },
  {
   "cell_type": "code",
   "execution_count": null,
   "id": "63ead0e4",
   "metadata": {},
   "outputs": [],
   "source": []
  },
  {
   "cell_type": "markdown",
   "id": "30088df5",
   "metadata": {},
   "source": [
    "## defining the optimization model"
   ]
  },
  {
   "cell_type": "code",
   "execution_count": 16,
   "id": "984f5296",
   "metadata": {},
   "outputs": [
    {
     "data": {
      "text/plain": [
       "<pyomo.core.base.PyomoModel.ConcreteModel at 0x7fac18f27360>"
      ]
     },
     "execution_count": 16,
     "metadata": {},
     "output_type": "execute_result"
    }
   ],
   "source": [
    "model = ConcreteModel()\n",
    "model"
   ]
  },
  {
   "cell_type": "code",
   "execution_count": 17,
   "id": "c6d8e598",
   "metadata": {},
   "outputs": [],
   "source": [
    "model.name= \"ESS DED\""
   ]
  },
  {
   "cell_type": "code",
   "execution_count": null,
   "id": "c5dc1760",
   "metadata": {},
   "outputs": [],
   "source": []
  },
  {
   "cell_type": "code",
   "execution_count": null,
   "id": "4966fa24",
   "metadata": {},
   "outputs": [],
   "source": []
  },
  {
   "cell_type": "code",
   "execution_count": null,
   "id": "4538ea9d",
   "metadata": {},
   "outputs": [],
   "source": []
  },
  {
   "cell_type": "code",
   "execution_count": null,
   "id": "febd0330",
   "metadata": {},
   "outputs": [],
   "source": []
  },
  {
   "cell_type": "code",
   "execution_count": null,
   "id": "c12d0c65",
   "metadata": {},
   "outputs": [],
   "source": []
  },
  {
   "cell_type": "markdown",
   "id": "5d8042ac",
   "metadata": {},
   "source": [
    "##### adding the sets to the model"
   ]
  },
  {
   "cell_type": "code",
   "execution_count": 18,
   "id": "4d7db8e1",
   "metadata": {},
   "outputs": [],
   "source": [
    "model.t_hours = Set(initialize=t_hours)"
   ]
  },
  {
   "cell_type": "code",
   "execution_count": 19,
   "id": "b6c4a9ef",
   "metadata": {},
   "outputs": [],
   "source": [
    "model.g_units = Set(initialize=g_units)"
   ]
  },
  {
   "cell_type": "code",
   "execution_count": null,
   "id": "83515a23",
   "metadata": {},
   "outputs": [],
   "source": []
  },
  {
   "cell_type": "markdown",
   "id": "94930d1b",
   "metadata": {},
   "source": [
    "##### Decision Variables"
   ]
  },
  {
   "cell_type": "markdown",
   "id": "6788b3f8",
   "metadata": {},
   "source": [
    "Syntax of Var: <br>\n",
    "    First are the index sets. Eg for model.p we have two index sets: g_units and t_hours. <br>\n",
    "    Then we set the upper and the lower bounds on the variable. Eg for Pd these are 0 and 20% of SOCmax.\n",
    "         <br> Also for p the bounds are Pmin and Pmax. We write bounds = lambda model, followed by the indices of the index sets."
   ]
  },
  {
   "cell_type": "code",
   "execution_count": null,
   "id": "1a1f39fa",
   "metadata": {},
   "outputs": [],
   "source": []
  },
  {
   "cell_type": "markdown",
   "id": "9f367775",
   "metadata": {},
   "source": [
    "output of a thermal unit in MW:"
   ]
  },
  {
   "cell_type": "code",
   "execution_count": 20,
   "id": "80677f00",
   "metadata": {},
   "outputs": [],
   "source": [
    "model.p = Var(model.g_units, model.t_hours, bounds=lambda model, g, t: ( gendata[g, 'Pmin'], gendata[g, 'Pmax'] ) )"
   ]
  },
  {
   "attachments": {
    "Screenshot%202023-07-24%20at%2019.48.42.png": {
     "image/png": "[encoded data removed]"
    }
   },
   "cell_type": "markdown",
   "id": "f1e1fc46",
   "metadata": {},
   "source": [
    "![Screenshot%202023-07-24%20at%2019.48.42.png](attachment:Screenshot%202023-07-24%20at%2019.48.42.png)"
   ]
  },
  {
   "cell_type": "code",
   "execution_count": 21,
   "id": "5ec5726d",
   "metadata": {},
   "outputs": [
    {
     "data": {
      "text/plain": [
       "28"
      ]
     },
     "execution_count": 21,
     "metadata": {},
     "output_type": "execute_result"
    }
   ],
   "source": [
    "gendata['p1', 'Pmin']"
   ]
  },
  {
   "cell_type": "code",
   "execution_count": null,
   "id": "37ff8be9",
   "metadata": {},
   "outputs": [],
   "source": []
  },
  {
   "cell_type": "markdown",
   "id": "61af713d",
   "metadata": {},
   "source": []
  },
  {
   "cell_type": "code",
   "execution_count": 22,
   "id": "4cdbcf11",
   "metadata": {},
   "outputs": [],
   "source": [
    "model.SOC = Var(model.t_hours, bounds=lambda model, t: (0.2 * SOCmax, SOCmax))"
   ]
  },
  {
   "attachments": {
    "Screenshot%202023-07-24%20at%2019.55.00.png": {
     "image/png": "[encoded data removed]"
    }
   },
   "cell_type": "markdown",
   "id": "03cbc177",
   "metadata": {},
   "source": [
    "![Screenshot%202023-07-24%20at%2019.55.00.png](attachment:Screenshot%202023-07-24%20at%2019.55.00.png)"
   ]
  },
  {
   "cell_type": "code",
   "execution_count": null,
   "id": "27835352",
   "metadata": {},
   "outputs": [],
   "source": []
  },
  {
   "cell_type": "code",
   "execution_count": 23,
   "id": "0df85395",
   "metadata": {},
   "outputs": [],
   "source": [
    "model.Pd = Var(model.t_hours, bounds=(0, 0.2 * SOCmax))"
   ]
  },
  {
   "attachments": {
    "Screenshot%202023-07-24%20at%2019.55.32.png": {
     "image/png": "[encoded data removed]"
    }
   },
   "cell_type": "markdown",
   "id": "da3433be",
   "metadata": {},
   "source": [
    "![Screenshot%202023-07-24%20at%2019.55.32.png](attachment:Screenshot%202023-07-24%20at%2019.55.32.png)"
   ]
  },
  {
   "cell_type": "code",
   "execution_count": null,
   "id": "3a458cb0",
   "metadata": {},
   "outputs": [],
   "source": []
  },
  {
   "cell_type": "code",
   "execution_count": null,
   "id": "14587dec",
   "metadata": {},
   "outputs": [],
   "source": []
  },
  {
   "cell_type": "code",
   "execution_count": 24,
   "id": "33a2be42",
   "metadata": {},
   "outputs": [],
   "source": [
    "model.Pc = Var(model.t_hours, bounds=(0, 0.2 * SOCmax))"
   ]
  },
  {
   "attachments": {
    "Screenshot%202023-07-24%20at%2019.56.05.png": {
     "image/png": "[encoded data removed]"
    }
   },
   "cell_type": "markdown",
   "id": "5f3b69aa",
   "metadata": {},
   "source": [
    "![Screenshot%202023-07-24%20at%2019.56.05.png](attachment:Screenshot%202023-07-24%20at%2019.56.05.png)"
   ]
  },
  {
   "cell_type": "code",
   "execution_count": null,
   "id": "4bfdbe32",
   "metadata": {},
   "outputs": [],
   "source": []
  },
  {
   "cell_type": "markdown",
   "id": "0c21cea8",
   "metadata": {},
   "source": [
    "#### We fix the very last SOC (which is a decision variable) with the SOC at the very beginning. This is a very common assumption."
   ]
  },
  {
   "cell_type": "code",
   "execution_count": 25,
   "id": "d23bf2e6",
   "metadata": {},
   "outputs": [],
   "source": [
    "model.SOC['t24'].fix(SOC0)"
   ]
  },
  {
   "attachments": {
    "Screenshot%202023-07-24%20at%2019.59.10.png": {
     "image/png": "[encoded data removed]"
    }
   },
   "cell_type": "markdown",
   "id": "8c308e2c",
   "metadata": {},
   "source": [
    "![Screenshot%202023-07-24%20at%2019.59.10.png](attachment:Screenshot%202023-07-24%20at%2019.59.10.png)"
   ]
  },
  {
   "cell_type": "code",
   "execution_count": null,
   "id": "dbabf5e7",
   "metadata": {},
   "outputs": [],
   "source": []
  },
  {
   "cell_type": "code",
   "execution_count": null,
   "id": "02b30719",
   "metadata": {
    "id": "02b30719"
   },
   "outputs": [],
   "source": []
  },
  {
   "cell_type": "code",
   "execution_count": null,
   "id": "9d2c8807",
   "metadata": {},
   "outputs": [],
   "source": []
  },
  {
   "cell_type": "code",
   "execution_count": null,
   "id": "9268f335",
   "metadata": {},
   "outputs": [],
   "source": []
  },
  {
   "cell_type": "code",
   "execution_count": null,
   "id": "c15ea885",
   "metadata": {},
   "outputs": [],
   "source": []
  },
  {
   "cell_type": "markdown",
   "id": "dc80ce60",
   "metadata": {},
   "source": [
    "##### objective function. We minimize the Total electricity generation Cost (TC). This is a quadratic objective function ie nonlinear problem"
   ]
  },
  {
   "cell_type": "code",
   "execution_count": null,
   "id": "f64901cc",
   "metadata": {},
   "outputs": [],
   "source": []
  },
  {
   "cell_type": "code",
   "execution_count": 26,
   "id": "9e30f27d",
   "metadata": {},
   "outputs": [
    {
     "data": {
      "text/plain": [
       "0.12"
      ]
     },
     "execution_count": 26,
     "metadata": {},
     "output_type": "execute_result"
    }
   ],
   "source": [
    "gendata['p1','a']"
   ]
  },
  {
   "cell_type": "code",
   "execution_count": 27,
   "id": "8ffe82f9",
   "metadata": {},
   "outputs": [],
   "source": [
    "model.costThermal = Objective(\n",
    "    expr=sum(gendata[g, 'a'] * model.p[g, t]**2 + gendata[g, 'b'] * model.p[g, t] + gendata[g, 'c']\n",
    "             for t in model.t_hours for g in model.g_units),\n",
    "    sense=minimize\n",
    ")"
   ]
  },
  {
   "attachments": {
    "Screenshot%202023-07-24%20at%2019.29.57.png": {
     "image/png": "[encoded data removed]"
    }
   },
   "cell_type": "markdown",
   "id": "0d5b24ba",
   "metadata": {},
   "source": [
    "![Screenshot%202023-07-24%20at%2019.29.57.png](attachment:Screenshot%202023-07-24%20at%2019.29.57.png)"
   ]
  },
  {
   "cell_type": "markdown",
   "id": "58de593c",
   "metadata": {},
   "source": [
    "Since the objective function is about minimizing the generation costs (i.e. total operating costs)\n",
    "this is known a the cost-based DED.\n",
    "I.e. we minimize the total operational cost while meeting the hourly demands and other technical constraints.\n",
    "\n",
    "\n",
    "\n"
   ]
  },
  {
   "cell_type": "code",
   "execution_count": null,
   "id": "46df23c4",
   "metadata": {},
   "outputs": [],
   "source": []
  },
  {
   "cell_type": "markdown",
   "id": "ea3622c0",
   "metadata": {},
   "source": [
    "The operating cost (fuel cost) of a thermal power station g is: "
   ]
  },
  {
   "attachments": {
    "Screenshot%202023-07-28%20at%2002.36.41.png": {
     "image/png": "[encoded data removed]"
    }
   },
   "cell_type": "markdown",
   "id": "e79bf02e",
   "metadata": {},
   "source": [
    "![Screenshot%202023-07-28%20at%2002.36.41.png](attachment:Screenshot%202023-07-28%20at%2002.36.41.png)"
   ]
  },
  {
   "cell_type": "code",
   "execution_count": null,
   "id": "f6144c7d",
   "metadata": {},
   "outputs": [],
   "source": []
  },
  {
   "cell_type": "markdown",
   "id": "2be4d494",
   "metadata": {},
   "source": [
    "##### constraints"
   ]
  },
  {
   "cell_type": "code",
   "execution_count": null,
   "id": "f1c0d09d",
   "metadata": {},
   "outputs": [],
   "source": []
  },
  {
   "cell_type": "code",
   "execution_count": null,
   "id": "a92c6b9d",
   "metadata": {},
   "outputs": [],
   "source": []
  },
  {
   "cell_type": "code",
   "execution_count": null,
   "id": "959b9b4a",
   "metadata": {},
   "outputs": [],
   "source": []
  },
  {
   "cell_type": "code",
   "execution_count": 28,
   "id": "035972e2",
   "metadata": {},
   "outputs": [],
   "source": [
    "model.Genconst3 = Constraint(\n",
    "    model.g_units, \n",
    "    model.t_hours, \n",
    "    rule=lambda model, g, t: model.p[g, t] - model.p[g, t_hours[t_hours.index(t) - 1]] <= gendata[g, 'RU0'])"
   ]
  },
  {
   "attachments": {
    "Screenshot%202023-07-24%20at%2019.50.03.png": {
     "image/png": "[encoded data removed]"
    }
   },
   "cell_type": "markdown",
   "id": "0a672594",
   "metadata": {},
   "source": [
    "![Screenshot%202023-07-24%20at%2019.50.03.png](attachment:Screenshot%202023-07-24%20at%2019.50.03.png)"
   ]
  },
  {
   "cell_type": "code",
   "execution_count": null,
   "id": "1420cfc3",
   "metadata": {},
   "outputs": [],
   "source": []
  },
  {
   "cell_type": "code",
   "execution_count": null,
   "id": "0346fca4",
   "metadata": {},
   "outputs": [],
   "source": []
  },
  {
   "cell_type": "code",
   "execution_count": null,
   "id": "039609f5",
   "metadata": {},
   "outputs": [],
   "source": []
  },
  {
   "cell_type": "markdown",
   "id": "ed0ddda9",
   "metadata": {},
   "source": [
    "example: at period t='t1' . And for the unit 'p1'\n",
    "    \n",
    "    model.p['p1', 't1'] - model.p['g1', t_hours[t_hours.index('t1')-1 ]] <= gendata['p1', 'RUO']"
   ]
  },
  {
   "cell_type": "code",
   "execution_count": 29,
   "id": "f8f51c46",
   "metadata": {},
   "outputs": [
    {
     "data": {
      "text/plain": [
       "40"
      ]
     },
     "execution_count": 29,
     "metadata": {},
     "output_type": "execute_result"
    }
   ],
   "source": [
    "gendata['p1','RU0']"
   ]
  },
  {
   "cell_type": "code",
   "execution_count": 30,
   "id": "653b9a95",
   "metadata": {},
   "outputs": [
    {
     "data": {
      "text/plain": [
       "0"
      ]
     },
     "execution_count": 30,
     "metadata": {},
     "output_type": "execute_result"
    }
   ],
   "source": [
    "t_hours.index('t1')"
   ]
  },
  {
   "cell_type": "markdown",
   "id": "28bdf94b",
   "metadata": {},
   "source": [
    "So it becomes:\n",
    "\n",
    "        model.p['p1', 't1'] - model.p['g1', t_hours[0-1 ]] <= 40 MW"
   ]
  },
  {
   "cell_type": "code",
   "execution_count": 31,
   "id": "1f2681f7",
   "metadata": {},
   "outputs": [
    {
     "data": {
      "text/plain": [
       "'t24'"
      ]
     },
     "execution_count": 31,
     "metadata": {},
     "output_type": "execute_result"
    }
   ],
   "source": [
    "t_hours[-1]"
   ]
  },
  {
   "cell_type": "markdown",
   "id": "4787f8ad",
   "metadata": {},
   "source": [
    "So essentially our t0 is t24. This is an assumption since we dont have data for t0."
   ]
  },
  {
   "cell_type": "code",
   "execution_count": null,
   "id": "3fb25334",
   "metadata": {},
   "outputs": [],
   "source": []
  },
  {
   "cell_type": "code",
   "execution_count": null,
   "id": "5574ecfb",
   "metadata": {},
   "outputs": [],
   "source": []
  },
  {
   "cell_type": "markdown",
   "id": "8988845e",
   "metadata": {},
   "source": [
    "reminder:"
   ]
  },
  {
   "cell_type": "code",
   "execution_count": 32,
   "id": "46ef4580",
   "metadata": {},
   "outputs": [
    {
     "data": {
      "text/plain": [
       "['p1', 'p2', 'p3', 'p4']"
      ]
     },
     "execution_count": 32,
     "metadata": {},
     "output_type": "execute_result"
    }
   ],
   "source": [
    "g_units"
   ]
  },
  {
   "cell_type": "code",
   "execution_count": 33,
   "id": "4d00e0ac",
   "metadata": {},
   "outputs": [
    {
     "data": {
      "text/plain": [
       "['t1',\n",
       " 't2',\n",
       " 't3',\n",
       " 't4',\n",
       " 't5',\n",
       " 't6',\n",
       " 't7',\n",
       " 't8',\n",
       " 't9',\n",
       " 't10',\n",
       " 't11',\n",
       " 't12',\n",
       " 't13',\n",
       " 't14',\n",
       " 't15',\n",
       " 't16',\n",
       " 't17',\n",
       " 't18',\n",
       " 't19',\n",
       " 't20',\n",
       " 't21',\n",
       " 't22',\n",
       " 't23',\n",
       " 't24']"
      ]
     },
     "execution_count": 33,
     "metadata": {},
     "output_type": "execute_result"
    }
   ],
   "source": [
    "t_hours"
   ]
  },
  {
   "cell_type": "code",
   "execution_count": 34,
   "id": "8e921133",
   "metadata": {},
   "outputs": [
    {
     "data": {
      "text/plain": [
       "1"
      ]
     },
     "execution_count": 34,
     "metadata": {},
     "output_type": "execute_result"
    }
   ],
   "source": [
    "t_hours.index('t2')"
   ]
  },
  {
   "cell_type": "code",
   "execution_count": 35,
   "id": "7da666cb",
   "metadata": {},
   "outputs": [
    {
     "data": {
      "text/plain": [
       "'t1'"
      ]
     },
     "execution_count": 35,
     "metadata": {},
     "output_type": "execute_result"
    }
   ],
   "source": [
    "t_hours[0]"
   ]
  },
  {
   "cell_type": "code",
   "execution_count": null,
   "id": "6c288361",
   "metadata": {},
   "outputs": [],
   "source": []
  },
  {
   "cell_type": "code",
   "execution_count": null,
   "id": "abab464c",
   "metadata": {},
   "outputs": [],
   "source": []
  },
  {
   "cell_type": "code",
   "execution_count": null,
   "id": "3474a449",
   "metadata": {},
   "outputs": [],
   "source": []
  },
  {
   "cell_type": "code",
   "execution_count": null,
   "id": "5963208d",
   "metadata": {},
   "outputs": [],
   "source": []
  },
  {
   "cell_type": "code",
   "execution_count": null,
   "id": "190da2d4",
   "metadata": {},
   "outputs": [],
   "source": []
  },
  {
   "cell_type": "code",
   "execution_count": 36,
   "id": "b60c0df5",
   "metadata": {},
   "outputs": [],
   "source": [
    "model.Genconst4 = Constraint(\n",
    "    model.g_units, \n",
    "    model.t_hours, \n",
    "    rule=lambda model, g, t: model.p[g, t_hours[t_hours.index(t) - 1]] - model.p[g, t] <= gendata[g, 'RD0'])"
   ]
  },
  {
   "attachments": {
    "Screenshot%202023-07-24%20at%2019.50.53.png": {
     "image/png": "[encoded data removed]"
    }
   },
   "cell_type": "markdown",
   "id": "9b82a843",
   "metadata": {},
   "source": [
    "![Screenshot%202023-07-24%20at%2019.50.53.png](attachment:Screenshot%202023-07-24%20at%2019.50.53.png)"
   ]
  },
  {
   "cell_type": "code",
   "execution_count": null,
   "id": "8494bfa9",
   "metadata": {},
   "outputs": [],
   "source": []
  },
  {
   "cell_type": "code",
   "execution_count": null,
   "id": "2864acc0",
   "metadata": {},
   "outputs": [],
   "source": []
  },
  {
   "cell_type": "markdown",
   "id": "ab7f90d9",
   "metadata": {},
   "source": [
    "The State of Charge (SOC) for the Energy Storage:"
   ]
  },
  {
   "cell_type": "code",
   "execution_count": 37,
   "id": "8c17368b",
   "metadata": {},
   "outputs": [],
   "source": [
    "def constESS1_rule(model, t):\n",
    "    if t == 't1':\n",
    "        return model.SOC[t] == SOC0 + model.Pc[t] * etac - model.Pd[t] / etad\n",
    "    else:\n",
    "        return model.SOC[t] == model.SOC[t_hours[t_hours.index(t) - 1]] + model.Pc[t] * etac - model.Pd[t] / etad"
   ]
  },
  {
   "cell_type": "code",
   "execution_count": 38,
   "id": "27740971",
   "metadata": {},
   "outputs": [],
   "source": [
    "model.constESS1 = Constraint(model.t_hours, rule=constESS1_rule)"
   ]
  },
  {
   "attachments": {
    "Screenshot%202023-07-24%20at%2019.51.27.png": {
     "image/png": "[encoded data removed]"
    }
   },
   "cell_type": "markdown",
   "id": "e3b808e3",
   "metadata": {},
   "source": [
    "![Screenshot%202023-07-24%20at%2019.51.27.png](attachment:Screenshot%202023-07-24%20at%2019.51.27.png)"
   ]
  },
  {
   "cell_type": "code",
   "execution_count": null,
   "id": "3d6e2d62",
   "metadata": {},
   "outputs": [],
   "source": []
  },
  {
   "cell_type": "markdown",
   "id": "6c915fe9",
   "metadata": {},
   "source": [
    "Reminders:"
   ]
  },
  {
   "cell_type": "code",
   "execution_count": 39,
   "id": "c5ed0229",
   "metadata": {},
   "outputs": [
    {
     "data": {
      "text/plain": [
       "['t1',\n",
       " 't2',\n",
       " 't3',\n",
       " 't4',\n",
       " 't5',\n",
       " 't6',\n",
       " 't7',\n",
       " 't8',\n",
       " 't9',\n",
       " 't10',\n",
       " 't11',\n",
       " 't12',\n",
       " 't13',\n",
       " 't14',\n",
       " 't15',\n",
       " 't16',\n",
       " 't17',\n",
       " 't18',\n",
       " 't19',\n",
       " 't20',\n",
       " 't21',\n",
       " 't22',\n",
       " 't23',\n",
       " 't24']"
      ]
     },
     "execution_count": 39,
     "metadata": {},
     "output_type": "execute_result"
    }
   ],
   "source": [
    "t_hours"
   ]
  },
  {
   "cell_type": "code",
   "execution_count": 40,
   "id": "1d78976a",
   "metadata": {},
   "outputs": [
    {
     "data": {
      "text/plain": [
       "0"
      ]
     },
     "execution_count": 40,
     "metadata": {},
     "output_type": "execute_result"
    }
   ],
   "source": [
    "t_hours.index('t1')"
   ]
  },
  {
   "cell_type": "code",
   "execution_count": 41,
   "id": "fa0bc5da",
   "metadata": {},
   "outputs": [
    {
     "data": {
      "text/plain": [
       "100"
      ]
     },
     "execution_count": 41,
     "metadata": {},
     "output_type": "execute_result"
    }
   ],
   "source": [
    "SOC0"
   ]
  },
  {
   "cell_type": "code",
   "execution_count": 42,
   "id": "f640d0d2",
   "metadata": {},
   "outputs": [
    {
     "data": {
      "text/plain": [
       "'t24'"
      ]
     },
     "execution_count": 42,
     "metadata": {},
     "output_type": "execute_result"
    }
   ],
   "source": [
    "t_hours[0- 1]"
   ]
  },
  {
   "cell_type": "code",
   "execution_count": null,
   "id": "44bdc487",
   "metadata": {},
   "outputs": [],
   "source": []
  },
  {
   "cell_type": "code",
   "execution_count": null,
   "id": "9c7ed2f2",
   "metadata": {},
   "outputs": [],
   "source": []
  },
  {
   "cell_type": "markdown",
   "id": "64ca61df",
   "metadata": {},
   "source": [
    "power balance equation: \n",
    "\n",
    "The electricity generation from all power stations plus the discharge of the storage\n",
    "\n",
    "must be equal to the demand Lt PLUS the charge of the storage."
   ]
  },
  {
   "cell_type": "code",
   "execution_count": null,
   "id": "53a87592",
   "metadata": {},
   "outputs": [],
   "source": []
  },
  {
   "cell_type": "code",
   "execution_count": 43,
   "id": "f123b430",
   "metadata": {},
   "outputs": [],
   "source": [
    "model.balance = Constraint(\n",
    "    model.t_hours, \n",
    "    rule=lambda model, t: sum(model.p[g, t] for g in model.g_units) + model.Pd[t] == data[t, 'load'] + model.Pc[t])"
   ]
  },
  {
   "attachments": {
    "Screenshot%202023-07-24%20at%2019.52.26.png": {
     "image/png": "[encoded data removed]"
    }
   },
   "cell_type": "markdown",
   "id": "bd9bdf75",
   "metadata": {},
   "source": [
    "![Screenshot%202023-07-24%20at%2019.52.26.png](attachment:Screenshot%202023-07-24%20at%2019.52.26.png)"
   ]
  },
  {
   "cell_type": "code",
   "execution_count": null,
   "id": "a33f76b4",
   "metadata": {},
   "outputs": [],
   "source": []
  },
  {
   "cell_type": "code",
   "execution_count": null,
   "id": "3f0c6ff9",
   "metadata": {},
   "outputs": [],
   "source": []
  },
  {
   "cell_type": "code",
   "execution_count": null,
   "id": "8e3af1bd",
   "metadata": {},
   "outputs": [],
   "source": []
  },
  {
   "cell_type": "code",
   "execution_count": null,
   "id": "4d8a08bd",
   "metadata": {},
   "outputs": [],
   "source": []
  },
  {
   "cell_type": "code",
   "execution_count": 44,
   "id": "5177dedc",
   "metadata": {},
   "outputs": [],
   "source": [
    "model.EM = Var(bounds=(0, None))"
   ]
  },
  {
   "cell_type": "markdown",
   "id": "2d942eb3",
   "metadata": {},
   "source": [
    "The emissions (kg CO2) from a power station g across a day are:"
   ]
  },
  {
   "attachments": {
    "Screenshot%202023-07-28%20at%2002.38.50.png": {
     "image/png": "[encoded data removed]"
    }
   },
   "cell_type": "markdown",
   "id": "a7de363a",
   "metadata": {},
   "source": [
    "![Screenshot%202023-07-28%20at%2002.38.50.png](attachment:Screenshot%202023-07-28%20at%2002.38.50.png)"
   ]
  },
  {
   "cell_type": "markdown",
   "id": "ae119b01",
   "metadata": {},
   "source": [
    "Nonlinear equality constraints are always nonconvex."
   ]
  },
  {
   "cell_type": "code",
   "execution_count": 45,
   "id": "81416530",
   "metadata": {},
   "outputs": [],
   "source": [
    "model.EMcalc = Constraint(\n",
    "    rule=\n",
    "    lambda model: \n",
    "    model.EM == sum(gendata[g, 'd'] * model.p[g, t]**2 + gendata[g, 'e'] * model.p[g, t] + gendata[g, 'f'] \n",
    "                          for t in model.t_hours for g in model.g_units))"
   ]
  },
  {
   "cell_type": "code",
   "execution_count": null,
   "id": "d43649bf",
   "metadata": {},
   "outputs": [],
   "source": []
  },
  {
   "cell_type": "code",
   "execution_count": null,
   "id": "67148ad3",
   "metadata": {},
   "outputs": [],
   "source": []
  },
  {
   "cell_type": "code",
   "execution_count": null,
   "id": "78db4338",
   "metadata": {},
   "outputs": [],
   "source": []
  },
  {
   "cell_type": "markdown",
   "id": "057a0207",
   "metadata": {},
   "source": [
    "## Solving the problem"
   ]
  },
  {
   "cell_type": "markdown",
   "id": "2dccb3a7",
   "metadata": {},
   "source": [
    "how to install:\n",
    "    1.go to gurobi.com\n",
    "    2. Register and then login\n",
    "    3. Go to 'downloads and licenses' --> downloads center --> gurobi optimizer--> accept user license agreement\n",
    "    4. download the installer and install it"
   ]
  },
  {
   "cell_type": "code",
   "execution_count": 46,
   "id": "c987c7a9",
   "metadata": {},
   "outputs": [],
   "source": [
    "solver = SolverFactory('gurobi')"
   ]
  },
  {
   "cell_type": "code",
   "execution_count": null,
   "id": "2f8325b7",
   "metadata": {},
   "outputs": [],
   "source": []
  },
  {
   "cell_type": "markdown",
   "id": "1d124ac7",
   "metadata": {},
   "source": [
    "https://www.gurobi.com/documentation/9.0/refman/nonconvex.html#parameter:NonConvex"
   ]
  },
  {
   "cell_type": "code",
   "execution_count": 47,
   "id": "063c6f42",
   "metadata": {},
   "outputs": [],
   "source": [
    "#the following is needed only if we have the emissions constraint.\n",
    "\n",
    "solver.options['NonConvex'] = 2"
   ]
  },
  {
   "cell_type": "code",
   "execution_count": null,
   "id": "4277de8c",
   "metadata": {},
   "outputs": [],
   "source": []
  },
  {
   "cell_type": "code",
   "execution_count": null,
   "id": "4a43d40f",
   "metadata": {},
   "outputs": [],
   "source": []
  },
  {
   "cell_type": "markdown",
   "id": "e1ed2934",
   "metadata": {},
   "source": [
    "## Results"
   ]
  },
  {
   "cell_type": "code",
   "execution_count": 48,
   "id": "30d28355",
   "metadata": {},
   "outputs": [],
   "source": [
    "results1 = solver.solve(model)"
   ]
  },
  {
   "cell_type": "code",
   "execution_count": 49,
   "id": "711de44a",
   "metadata": {},
   "outputs": [
    {
     "data": {
      "text/plain": [
       "pyomo.opt.results.results_.SolverResults"
      ]
     },
     "execution_count": 49,
     "metadata": {},
     "output_type": "execute_result"
    }
   ],
   "source": [
    "type(results1)"
   ]
  },
  {
   "cell_type": "code",
   "execution_count": 50,
   "id": "a4b40f83",
   "metadata": {},
   "outputs": [
    {
     "data": {
      "text/plain": [
       "{'Problem': [{'Name': 'x1', 'Lower bound': 645504.0149465984, 'Upper bound': 645525.3251407502, 'Number of objectives': 1, 'Number of constraints': 241, 'Number of variables': 169, 'Number of binary variables': 0, 'Number of integer variables': 0, 'Number of continuous variables': 169, 'Number of nonzeros': 622, 'Sense': 'minimize'}], 'Solver': [{'Status': 'ok', 'Return code': '0', 'Message': 'Model was solved to optimality (subject to tolerances), and an optimal solution is available.', 'Termination condition': 'optimal', 'Termination message': 'Model was solved to optimality (subject to tolerances), and an optimal solution is available.', 'Wall time': '0.04307389259338379', 'Error rc': 0, 'Time': 0.1314859390258789}], 'Solution': [OrderedDict([('number of solutions', 0), ('number of solutions displayed', 0)])]}"
      ]
     },
     "execution_count": 50,
     "metadata": {},
     "output_type": "execute_result"
    }
   ],
   "source": [
    "results1"
   ]
  },
  {
   "cell_type": "code",
   "execution_count": null,
   "id": "28167d0d",
   "metadata": {},
   "outputs": [],
   "source": []
  },
  {
   "cell_type": "code",
   "execution_count": 51,
   "id": "af6ba8dd",
   "metadata": {},
   "outputs": [
    {
     "data": {
      "text/plain": [
       "'gurobi'"
      ]
     },
     "execution_count": 51,
     "metadata": {},
     "output_type": "execute_result"
    }
   ],
   "source": [
    "solver.type"
   ]
  },
  {
   "cell_type": "code",
   "execution_count": null,
   "id": "f09e2388",
   "metadata": {},
   "outputs": [],
   "source": []
  },
  {
   "cell_type": "code",
   "execution_count": null,
   "id": "ca6371a9",
   "metadata": {},
   "outputs": [],
   "source": []
  },
  {
   "cell_type": "code",
   "execution_count": 52,
   "id": "08eabc71",
   "metadata": {},
   "outputs": [
    {
     "data": {
      "text/plain": [
       "1"
      ]
     },
     "execution_count": 52,
     "metadata": {},
     "output_type": "execute_result"
    }
   ],
   "source": [
    "results1['Problem'][0]['Number of objectives'] #problem has 1 objective function"
   ]
  },
  {
   "cell_type": "code",
   "execution_count": 53,
   "id": "1d4668c5",
   "metadata": {},
   "outputs": [
    {
     "name": "stdout",
     "output_type": "stream",
     "text": [
      "Model ESS DED\n",
      "\n",
      "  Variables:\n",
      "    p : Size=96, Index=p_index\n",
      "        Key           : Lower : Value              : Upper : Fixed : Stale : Domain\n",
      "         ('p1', 't1') :    28 : 180.82691928051847 :   200 : False : False :  Reals\n",
      "        ('p1', 't10') :    28 : 199.99999999986264 :   200 : False : False :  Reals\n",
      "        ('p1', 't11') :    28 : 199.99999999986264 :   200 : False : False :  Reals\n",
      "        ('p1', 't12') :    28 : 199.99999999986264 :   200 : False : False :  Reals\n",
      "        ('p1', 't13') :    28 : 199.99999999986264 :   200 : False : False :  Reals\n",
      "        ('p1', 't14') :    28 :  199.9999999998229 :   200 : False : False :  Reals\n",
      "        ('p1', 't15') :    28 : 199.99999999978746 :   200 : False : False :  Reals\n",
      "        ('p1', 't16') :    28 : 199.99999999986264 :   200 : False : False :  Reals\n",
      "        ('p1', 't17') :    28 : 199.99999999985786 :   200 : False : False :  Reals\n",
      "        ('p1', 't18') :    28 : 199.99999999986264 :   200 : False : False :  Reals\n",
      "        ('p1', 't19') :    28 : 199.99999999986264 :   200 : False : False :  Reals\n",
      "         ('p1', 't2') :    28 : 180.82691928126434 :   200 : False : False :  Reals\n",
      "        ('p1', 't20') :    28 : 199.99999999986264 :   200 : False : False :  Reals\n",
      "        ('p1', 't21') :    28 :  198.2660969568827 :   200 : False : False :  Reals\n",
      "        ('p1', 't22') :    28 : 189.77649497382893 :   200 : False : False :  Reals\n",
      "        ('p1', 't23') :    28 : 189.15581211527189 :   200 : False : False :  Reals\n",
      "        ('p1', 't24') :    28 : 189.15581211181376 :   200 : False : False :  Reals\n",
      "         ('p1', 't3') :    28 : 180.82691928111137 :   200 : False : False :  Reals\n",
      "         ('p1', 't4') :    28 : 180.82691928099777 :   200 : False : False :  Reals\n",
      "         ('p1', 't5') :    28 : 180.82691928124248 :   200 : False : False :  Reals\n",
      "         ('p1', 't6') :    28 : 180.82691928264637 :   200 : False : False :  Reals\n",
      "         ('p1', 't7') :    28 : 199.99999999950333 :   200 : False : False :  Reals\n",
      "         ('p1', 't8') :    28 : 199.99999999978746 :   200 : False : False :  Reals\n",
      "         ('p1', 't9') :    28 : 199.99999999986264 :   200 : False : False :  Reals\n",
      "         ('p2', 't1') :    20 : 122.43664890415117 :   290 : False : False :  Reals\n",
      "        ('p2', 't10') :    20 :  171.7008164136927 :   290 : False : False :  Reals\n",
      "        ('p2', 't11') :    20 : 171.70081641396322 :   290 : False : False :  Reals\n",
      "        ('p2', 't12') :    20 : 171.70081641416883 :   290 : False : False :  Reals\n",
      "        ('p2', 't13') :    20 : 171.70081641396536 :   290 : False : False :  Reals\n",
      "        ('p2', 't14') :    20 : 163.68597914416583 :   290 : False : False :  Reals\n",
      "        ('p2', 't15') :    20 : 159.06257242216694 :   290 : False : False :  Reals\n",
      "        ('p2', 't16') :    20 : 171.70081641240265 :   290 : False : False :  Reals\n",
      "        ('p2', 't17') :    20 : 170.49999999845355 :   290 : False : False :  Reals\n",
      "        ('p2', 't18') :    20 : 171.70081641390897 :   290 : False : False :  Reals\n",
      "        ('p2', 't19') :    20 : 171.70081641291847 :   290 : False : False :  Reals\n",
      "         ('p2', 't2') :    20 : 122.43664890466442 :   290 : False : False :  Reals\n",
      "        ('p2', 't20') :    20 : 168.22373654103416 :   290 : False : False :  Reals\n",
      "        ('p2', 't21') :    20 : 138.22373654244572 :   290 : False : False :  Reals\n",
      "        ('p2', 't22') :    20 : 128.75399645263826 :   290 : False : False :  Reals\n",
      "        ('p2', 't23') :    20 : 128.31586737592414 :   290 : False : False :  Reals\n",
      "        ('p2', 't24') :    20 : 128.31586737346888 :   290 : False : False :  Reals\n",
      "         ('p2', 't3') :    20 : 122.43664890455645 :   290 : False : False :  Reals\n",
      "         ('p2', 't4') :    20 : 122.43664890447626 :   290 : False : False :  Reals\n",
      "         ('p2', 't5') :    20 :   122.436648904649 :   290 : False : False :  Reals\n",
      "         ('p2', 't6') :    20 :  122.4366489061409 :   290 : False : False :  Reals\n",
      "         ('p2', 't7') :    20 : 145.85283893428843 :   290 : False : False :  Reals\n",
      "         ('p2', 't8') :    20 : 159.06257242205083 :   290 : False : False :  Reals\n",
      "         ('p2', 't9') :    20 : 171.70081641345536 :   290 : False : False :  Reals\n",
      "         ('p3', 't1') :    30 : 142.16153542462783 :   190 : False : False :  Reals\n",
      "        ('p3', 't10') :    30 : 189.99999999930418 :   190 : False : False :  Reals\n",
      "        ('p3', 't11') :    30 : 189.99999999930418 :   190 : False : False :  Reals\n",
      "        ('p3', 't12') :    30 : 189.99999999930418 :   190 : False : False :  Reals\n",
      "        ('p3', 't13') :    30 : 189.99999999930418 :   190 : False : False :  Reals\n",
      "        ('p3', 't14') :    30 : 188.91077635821958 :   190 : False : False :  Reals\n",
      "        ('p3', 't15') :    30 : 183.67091541084903 :   190 : False : False :  Reals\n",
      "        ('p3', 't16') :    30 : 189.99999999930418 :   190 : False : False :  Reals\n",
      "        ('p3', 't17') :    30 : 189.99999999916142 :   190 : False : False :  Reals\n",
      "        ('p3', 't18') :    30 : 189.99999999930418 :   190 : False : False :  Reals\n",
      "        ('p3', 't19') :    30 : 189.99999999930418 :   190 : False : False :  Reals\n",
      "         ('p3', 't2') :    30 : 142.16153542519848 :   190 : False : False :  Reals\n",
      "        ('p3', 't20') :    30 : 189.99999999864565 :   190 : False : False :  Reals\n",
      "        ('p3', 't21') :    30 : 160.00000000007665 :   190 : False : False :  Reals\n",
      "        ('p3', 't22') :    30 : 149.32119597957018 :   190 : False : False :  Reals\n",
      "        ('p3', 't23') :    30 : 148.82464969260943 :   190 : False : False :  Reals\n",
      "        ('p3', 't24') :    30 :   148.824649689815 :   190 : False : False :  Reals\n",
      "         ('p3', 't3') :    30 :  142.1615354250761 :   190 : False : False :  Reals\n",
      "         ('p3', 't4') :    30 :  142.1615354249852 :   190 : False : False :  Reals\n",
      "         ('p3', 't5') :    30 : 142.16153542518094 :   190 : False : False :  Reals\n",
      "         ('p3', 't6') :    30 : 142.16153542763956 :   190 : False : False :  Reals\n",
      "         ('p3', 't7') :    30 :  168.6998841245762 :   190 : False : False :  Reals\n",
      "         ('p3', 't8') :    30 : 183.67091541066534 :   190 : False : False :  Reals\n",
      "         ('p3', 't9') :    30 : 189.99999999930418 :   190 : False : False :  Reals\n",
      "         ('p4', 't1') :    20 :  110.4959490194651 :   260 : False : False :  Reals\n",
      "        ('p4', 't10') :    20 :  154.5744146859338 :   260 : False : False :  Reals\n",
      "        ('p4', 't11') :    20 : 154.57441468617273 :   260 : False : False :  Reals\n",
      "        ('p4', 't12') :    20 : 154.57441468635344 :   260 : False : False :  Reals\n",
      "        ('p4', 't13') :    20 :  154.5744146862316 :   260 : False : False :  Reals\n",
      "        ('p4', 't14') :    20 : 147.40324449738415 :   260 : False : False :  Reals\n",
      "        ('p4', 't15') :    20 : 143.26651216706216 :   260 : False : False :  Reals\n",
      "        ('p4', 't16') :    20 : 154.57441468489637 :   260 : False : False :  Reals\n",
      "        ('p4', 't17') :    20 :  153.4999999985993 :   260 : False : False :  Reals\n",
      "        ('p4', 't18') :    20 :  154.5744146861289 :   260 : False : False :  Reals\n",
      "        ('p4', 't19') :    20 : 154.57441468527605 :   260 : False : False :  Reals\n",
      "         ('p4', 't2') :    20 : 110.49594901996531 :   260 : False : False :  Reals\n",
      "        ('p4', 't20') :    20 :  154.5744146781765 :   260 : False : False :  Reals\n",
      "        ('p4', 't21') :    20 : 121.51016650182886 :   260 : False : False :  Reals\n",
      "        ('p4', 't22') :    20 : 116.14831261543961 :   260 : False : False :  Reals\n",
      "        ('p4', 't23') :    20 : 115.75630238898378 :   260 : False : False :  Reals\n",
      "        ('p4', 't24') :    20 : 115.75630238683082 :   260 : False : False :  Reals\n",
      "         ('p4', 't3') :    20 : 110.49594901986869 :   260 : False : False :  Reals\n",
      "         ('p4', 't4') :    20 : 110.49594901979692 :   260 : False : False :  Reals\n",
      "         ('p4', 't5') :    20 : 110.49594901995148 :   260 : False : False :  Reals\n",
      "         ('p4', 't6') :    20 : 110.49594902079082 :   260 : False : False :  Reals\n",
      "         ('p4', 't7') :    20 : 131.44727694158573 :   260 : False : False :  Reals\n",
      "         ('p4', 't8') :    20 :  143.2665121671058 :   260 : False : False :  Reals\n",
      "         ('p4', 't9') :    20 : 154.57441468582806 :   260 : False : False :  Reals\n",
      "    SOC : Size=24, Index=t_hours\n",
      "        Key : Lower : Value              : Upper : Fixed : Stale : Domain\n",
      "         t1 :  60.0 :  143.6249999972972 :   300 : False : False :  Reals\n",
      "        t10 :  60.0 :  252.8338468845621 :   300 : False : False :  Reals\n",
      "        t11 :  60.0 : 217.58410366154018 :   300 : False : False :  Reals\n",
      "        t12 :  60.0 :  169.0010271056143 :   300 : False : False :  Reals\n",
      "        t13 :  60.0 : 127.08461721599365 :   300 : False : False :  Reals\n",
      "        t14 :  60.0 : 127.08461721550792 :   300 : False : False :  Reals\n",
      "        t15 :  60.0 : 127.08461721531779 :   300 : False : False :  Reals\n",
      "        t16 :  60.0 : 122.94598510025502 :   300 : False : False :  Reals\n",
      "        t17 :  60.0 : 122.94598509586486 :   300 : False : False :  Reals\n",
      "        t18 :  60.0 :   73.2517974282896 :   300 : False : False :  Reals\n",
      "        t19 :  60.0 :  61.33538753644399 :   300 : False : False :  Reals\n",
      "         t2 :  60.0 :  168.2499999968079 :   300 : False : False :  Reals\n",
      "        t20 :  60.0 : 60.000000000551246 :   300 : False : False :  Reals\n",
      "        t21 :  60.0 :  60.00000000169439 :   300 : False : False :  Reals\n",
      "        t22 :  60.0 : 60.000000022070886 :   300 : False : False :  Reals\n",
      "        t23 :  60.0 :  63.85000001619435 :   300 : False : False :  Reals\n",
      "        t24 :  60.0 :                100 :   300 :  True :  True :  Reals\n",
      "         t3 :  60.0 : 206.17499999586263 :   300 : False : False :  Reals\n",
      "         t4 :  60.0 : 249.79999999457874 :   300 : False : False :  Reals\n",
      "         t5 :  60.0 :  288.6749999940243 :   300 : False : False :  Reals\n",
      "         t6 :  60.0 :  299.9999999993538 :   300 : False : False :  Reals\n",
      "         t7 :  60.0 : 299.99999999925353 :   300 : False : False :  Reals\n",
      "         t8 :  60.0 :  299.9999999987855 :   300 : False : False :  Reals\n",
      "         t9 :  60.0 :  272.5280345525943 :   300 : False : False :  Reals\n",
      "    Pd : Size=24, Index=t_hours\n",
      "        Key : Lower : Value                  : Upper : Fixed : Stale : Domain\n",
      "         t1 :     0 : 1.6907702103223286e-10 :  60.0 : False : False :  Reals\n",
      "        t10 :     0 :       17.7247689013603 :  60.0 : False : False :  Reals\n",
      "        t11 :     0 :     31.724768900850982 :  60.0 : False : False :  Reals\n",
      "        t12 :     0 :      43.72476890046461 :  60.0 : False : False :  Reals\n",
      "        t13 :     0 :     37.724768900789876 :  60.0 : False : False :  Reals\n",
      "        t14 :     0 :  6.123849433908685e-10 :  60.0 : False : False :  Reals\n",
      "        t15 :     0 :  3.883585429446234e-10 :  60.0 : False : False :  Reals\n",
      "        t16 :     0 :     3.7247689036877816 :  60.0 : False : False :  Reals\n",
      "        t17 :     0 :  4.087465892001233e-09 :  60.0 : False : False :  Reals\n",
      "        t18 :     0 :      44.72476890094902 :  60.0 : False : False :  Reals\n",
      "        t19 :     0 :     10.724768902792318 :  60.0 : False : False :  Reals\n",
      "         t2 :     0 : 1.6907700778208984e-10 :  60.0 : False : False :  Reals\n",
      "        t20 :     0 :     1.2018487824347566 :  60.0 : False : False :  Reals\n",
      "        t21 :     0 :  1.813730467873338e-10 :  60.0 : False : False :  Reals\n",
      "        t22 :     0 :  1.645088474818421e-10 :  60.0 : False : False :  Reals\n",
      "        t23 :     0 : 1.6346250512633578e-10 :  60.0 : False : False :  Reals\n",
      "        t24 :     0 :  1.634625583560964e-10 :  60.0 : False : False :  Reals\n",
      "         t3 :     0 : 1.6907701765028507e-10 :  60.0 : False : False :  Reals\n",
      "         t4 :     0 : 1.6907702474022877e-10 :  60.0 : False : False :  Reals\n",
      "         t5 :     0 :    1.6907701955869e-10 :  60.0 : False : False :  Reals\n",
      "         t6 :     0 : 1.6907699831651982e-10 :  60.0 : False : False :  Reals\n",
      "         t7 :     0 : 3.4928187123342526e-10 :  60.0 : False : False :  Reals\n",
      "         t8 :     0 :  6.023809184119602e-10 :  60.0 : False : False :  Reals\n",
      "         t9 :     0 :     24.724768901703364 :  60.0 : False : False :  Reals\n",
      "    Pc : Size=24, Index=t_hours\n",
      "        Key : Lower : Value                  : Upper : Fixed : Stale : Domain\n",
      "         t1 :     0 :      45.92105262893165 :  60.0 : False : False :  Reals\n",
      "        t10 :     0 : 1.5355653389624866e-10 :  60.0 : False : False :  Reals\n",
      "        t11 :     0 : 1.5355654275157446e-10 :  60.0 : False : False :  Reals\n",
      "        t12 :     0 : 1.5355655080927977e-10 :  60.0 : False : False :  Reals\n",
      "        t13 :     0 :  1.535565461915804e-10 :  60.0 : False : False :  Reals\n",
      "        t14 :     0 : 2.0494746365305422e-10 :  60.0 : False : False :  Reals\n",
      "        t15 :     0 :  2.539799349538059e-10 :  60.0 : False : False :  Reals\n",
      "        t16 :     0 : 1.5355648439159335e-10 :  60.0 : False : False :  Reals\n",
      "        t17 :     0 :  1.595504833474283e-10 :  60.0 : False : False :  Reals\n",
      "        t18 :     0 : 1.5355655003577657e-10 :  60.0 : False : False :  Reals\n",
      "        t19 :     0 :  1.535565212253273e-10 :  60.0 : False : False :  Reals\n",
      "         t2 :     0 :      25.92105263126166 :  60.0 : False : False :  Reals\n",
      "        t20 :     0 : 1.5355632643139686e-10 :  60.0 : False : False :  Reals\n",
      "        t21 :     0 : 1.4154380631139242e-09 :  60.0 : False : False :  Reals\n",
      "        t22 :     0 : 2.1641352846395986e-08 :  60.0 : False : False :  Reals\n",
      "        t23 :     0 :       4.05263157295273 :  60.0 : False : False :  Reals\n",
      "        t24 :     0 :      38.05263156209186 :  60.0 : False : False :  Reals\n",
      "         t3 :     0 :     39.921052630781666 :  60.0 : False : False :  Reals\n",
      "         t4 :     0 :     45.921052630425244 :  60.0 : False : False :  Reals\n",
      "         t5 :     0 :     40.921052631193035 :  60.0 : False : False :  Reals\n",
      "         t6 :     0 :     11.921052637386714 :  60.0 : False : False :  Reals\n",
      "         t7 :     0 : 3.0296027931690635e-10 :  60.0 : False : False :  Reals\n",
      "         t8 :     0 :  2.118857289609966e-10 :  60.0 : False : False :  Reals\n",
      "         t9 :     0 : 1.5355653741231882e-10 :  60.0 : False : False :  Reals\n",
      "    EM : Size=1, Index=None\n",
      "        Key  : Lower : Value              : Upper : Fixed : Stale : Domain\n",
      "        None :     0 : 3558326.6900207135 :  None : False : False :  Reals\n",
      "\n",
      "  Objectives:\n",
      "    costThermal : Size=1, Index=None, Active=True\n",
      "        Key  : Active : Value\n",
      "        None :   True : 645525.3251407504\n",
      "\n",
      "  Constraints:\n",
      "    Genconst3 : Size=96\n",
      "        Key           : Lower : Body                    : Upper\n",
      "         ('p1', 't1') :  None :      -8.328892831295292 :  40.0\n",
      "        ('p1', 't10') :  None :                     0.0 :  40.0\n",
      "        ('p1', 't11') :  None :                     0.0 :  40.0\n",
      "        ('p1', 't12') :  None :                     0.0 :  40.0\n",
      "        ('p1', 't13') :  None :                     0.0 :  40.0\n",
      "        ('p1', 't14') :  None :   -3.97335497837048e-11 :  40.0\n",
      "        ('p1', 't15') :  None :   -3.54418716597138e-11 :  40.0\n",
      "        ('p1', 't16') :  None :    7.51754214434186e-11 :  40.0\n",
      "        ('p1', 't17') :  None :  -4.774847184307873e-12 :  40.0\n",
      "        ('p1', 't18') :  None :   4.774847184307873e-12 :  40.0\n",
      "        ('p1', 't19') :  None :                     0.0 :  40.0\n",
      "         ('p1', 't2') :  None :   7.458709205820924e-10 :  40.0\n",
      "        ('p1', 't20') :  None :                     0.0 :  40.0\n",
      "        ('p1', 't21') :  None :     -1.7339030429799323 :  40.0\n",
      "        ('p1', 't22') :  None :      -8.489601983053774 :  40.0\n",
      "        ('p1', 't23') :  None :     -0.6206828585570463 :  40.0\n",
      "        ('p1', 't24') :  None : -3.4581262298161164e-09 :  40.0\n",
      "         ('p1', 't3') :  None : -1.5296564015443437e-10 :  40.0\n",
      "         ('p1', 't4') :  None : -1.1360157259332482e-10 :  40.0\n",
      "         ('p1', 't5') :  None :   2.447109181957785e-10 :  40.0\n",
      "         ('p1', 't6') :  None :   1.403890337314806e-09 :  40.0\n",
      "         ('p1', 't7') :  None :       19.17308071685696 :  40.0\n",
      "         ('p1', 't8') :  None :  2.8413182917574886e-10 :  40.0\n",
      "         ('p1', 't9') :  None :    7.51754214434186e-11 :  40.0\n",
      "         ('p2', 't1') :  None :      -5.879218469317706 :  30.0\n",
      "        ('p2', 't10') :  None :  2.3734969545330387e-10 :  30.0\n",
      "        ('p2', 't11') :  None :  2.7051783035858534e-10 :  30.0\n",
      "        ('p2', 't12') :  None :   2.056026460195426e-10 :  30.0\n",
      "        ('p2', 't13') :  None :  -2.034710178122623e-10 :  30.0\n",
      "        ('p2', 't14') :  None :      -8.014837269799528 :  30.0\n",
      "        ('p2', 't15') :  None :       -4.62340672199889 :  30.0\n",
      "        ('p2', 't16') :  None :      12.638243990235708 :  30.0\n",
      "        ('p2', 't17') :  None :     -1.2008164139490987 :  30.0\n",
      "        ('p2', 't18') :  None :      1.2008164154554208 :  30.0\n",
      "        ('p2', 't19') :  None :  -9.904965736495797e-10 :  30.0\n",
      "         ('p2', 't2') :  None :   5.132534397489508e-10 :  30.0\n",
      "        ('p2', 't20') :  None :      -3.477079871884314 :  30.0\n",
      "        ('p2', 't21') :  None :     -29.999999998588436 :  30.0\n",
      "        ('p2', 't22') :  None :      -9.469740089807459 :  30.0\n",
      "        ('p2', 't23') :  None :     -0.4381290767141195 :  30.0\n",
      "        ('p2', 't24') :  None :  -2.455266212564311e-09 :  30.0\n",
      "         ('p2', 't3') :  None : -1.0797407412610482e-10 :  30.0\n",
      "         ('p2', 't4') :  None :  -8.019185315788491e-11 :  30.0\n",
      "         ('p2', 't5') :  None :  1.7274714991799556e-10 :  30.0\n",
      "         ('p2', 't6') :  None :   1.491898160566052e-09 :  30.0\n",
      "         ('p2', 't7') :  None :      23.416190028147525 :  30.0\n",
      "         ('p2', 't8') :  None :      13.209733487762406 :  30.0\n",
      "         ('p2', 't9') :  None :      12.638243991404522 :  30.0\n",
      "         ('p3', 't1') :  None :     -6.6631142651871755 :  30.0\n",
      "        ('p3', 't10') :  None :                     0.0 :  30.0\n",
      "        ('p3', 't11') :  None :                     0.0 :  30.0\n",
      "        ('p3', 't12') :  None :                     0.0 :  30.0\n",
      "        ('p3', 't13') :  None :                     0.0 :  30.0\n",
      "        ('p3', 't14') :  None :      -1.089223641084601 :  30.0\n",
      "        ('p3', 't15') :  None :      -5.239860947370545 :  30.0\n",
      "        ('p3', 't16') :  None :       6.329084588455146 :  30.0\n",
      "        ('p3', 't17') :  None : -1.4276224646891933e-10 :  30.0\n",
      "        ('p3', 't18') :  None :  1.4276224646891933e-10 :  30.0\n",
      "        ('p3', 't19') :  None :                     0.0 :  30.0\n",
      "         ('p3', 't2') :  None :   5.706510819436517e-10 :  30.0\n",
      "        ('p3', 't20') :  None :  -6.585310075024609e-10 :  30.0\n",
      "        ('p3', 't21') :  None :     -29.999999998568995 :  30.0\n",
      "        ('p3', 't22') :  None :     -10.678804020506476 :  30.0\n",
      "        ('p3', 't23') :  None :    -0.49654628696075065 :  30.0\n",
      "        ('p3', 't24') :  None :  -2.794422471197322e-09 :  30.0\n",
      "         ('p3', 't3') :  None : -1.2238388080731966e-10 :  30.0\n",
      "         ('p3', 't4') :  None :  -9.089262675843202e-11 :  30.0\n",
      "         ('p3', 't5') :  None :   1.957403128471924e-10 :  30.0\n",
      "         ('p3', 't6') :  None :  2.4586199742770987e-09 :  30.0\n",
      "         ('p3', 't7') :  None :      26.538348696936623 :  30.0\n",
      "         ('p3', 't8') :  None :      14.971031286089158 :  30.0\n",
      "         ('p3', 't9') :  None :       6.329084588638835 :  30.0\n",
      "         ('p4', 't1') :  None :      -5.260353367365724 :  50.0\n",
      "        ('p4', 't10') :  None :  1.0572875908110291e-10 :  50.0\n",
      "        ('p4', 't11') :  None :   2.389413111814065e-10 :  50.0\n",
      "        ('p4', 't12') :  None :  1.8070522855850868e-10 :  50.0\n",
      "        ('p4', 't13') :  None : -1.2184386832814198e-10 :  50.0\n",
      "        ('p4', 't14') :  None :      -7.171170188847441 :  50.0\n",
      "        ('p4', 't15') :  None :     -4.1367323303219905 :  50.0\n",
      "        ('p4', 't16') :  None :      11.307902517834208 :  50.0\n",
      "        ('p4', 't17') :  None :     -1.0744146862970751 :  50.0\n",
      "        ('p4', 't18') :  None :       1.074414687529611 :  50.0\n",
      "        ('p4', 't19') :  None :   -8.52850234878133e-10 :  50.0\n",
      "         ('p4', 't2') :  None :   5.002078751203953e-10 :  50.0\n",
      "        ('p4', 't20') :  None :  -7.099544063748908e-09 :  50.0\n",
      "        ('p4', 't21') :  None :      -33.06424817634765 :  50.0\n",
      "        ('p4', 't22') :  None :      -5.361853886389255 :  50.0\n",
      "        ('p4', 't23') :  None :    -0.39201022645582384 :  50.0\n",
      "        ('p4', 't24') :  None : -2.1529587002078188e-09 :  50.0\n",
      "         ('p4', 't3') :  None :  -9.661960120865842e-11 :  50.0\n",
      "         ('p4', 't4') :  None :  -7.176481631177012e-11 :  50.0\n",
      "         ('p4', 't5') :  None :    1.54557255882537e-10 :  50.0\n",
      "         ('p4', 't6') :  None :   8.393357120439759e-10 :  50.0\n",
      "         ('p4', 't7') :  None :       20.95132792079491 :  50.0\n",
      "         ('p4', 't8') :  None :       11.81923522552006 :  50.0\n",
      "         ('p4', 't9') :  None :      11.307902518722273 :  50.0\n",
      "    Genconst4 : Size=96\n",
      "        Key           : Lower : Body                    : Upper\n",
      "         ('p1', 't1') :  None :       8.328892831295292 :  40.0\n",
      "        ('p1', 't10') :  None :                     0.0 :  40.0\n",
      "        ('p1', 't11') :  None :                     0.0 :  40.0\n",
      "        ('p1', 't12') :  None :                     0.0 :  40.0\n",
      "        ('p1', 't13') :  None :                     0.0 :  40.0\n",
      "        ('p1', 't14') :  None :    3.97335497837048e-11 :  40.0\n",
      "        ('p1', 't15') :  None :    3.54418716597138e-11 :  40.0\n",
      "        ('p1', 't16') :  None :   -7.51754214434186e-11 :  40.0\n",
      "        ('p1', 't17') :  None :   4.774847184307873e-12 :  40.0\n",
      "        ('p1', 't18') :  None :  -4.774847184307873e-12 :  40.0\n",
      "        ('p1', 't19') :  None :                     0.0 :  40.0\n",
      "         ('p1', 't2') :  None :  -7.458709205820924e-10 :  40.0\n",
      "        ('p1', 't20') :  None :                     0.0 :  40.0\n",
      "        ('p1', 't21') :  None :      1.7339030429799323 :  40.0\n",
      "        ('p1', 't22') :  None :       8.489601983053774 :  40.0\n",
      "        ('p1', 't23') :  None :      0.6206828585570463 :  40.0\n",
      "        ('p1', 't24') :  None :  3.4581262298161164e-09 :  40.0\n",
      "         ('p1', 't3') :  None :  1.5296564015443437e-10 :  40.0\n",
      "         ('p1', 't4') :  None :  1.1360157259332482e-10 :  40.0\n",
      "         ('p1', 't5') :  None :  -2.447109181957785e-10 :  40.0\n",
      "         ('p1', 't6') :  None :  -1.403890337314806e-09 :  40.0\n",
      "         ('p1', 't7') :  None :      -19.17308071685696 :  40.0\n",
      "         ('p1', 't8') :  None : -2.8413182917574886e-10 :  40.0\n",
      "         ('p1', 't9') :  None :   -7.51754214434186e-11 :  40.0\n",
      "         ('p2', 't1') :  None :       5.879218469317706 :  30.0\n",
      "        ('p2', 't10') :  None : -2.3734969545330387e-10 :  30.0\n",
      "        ('p2', 't11') :  None : -2.7051783035858534e-10 :  30.0\n",
      "        ('p2', 't12') :  None :  -2.056026460195426e-10 :  30.0\n",
      "        ('p2', 't13') :  None :   2.034710178122623e-10 :  30.0\n",
      "        ('p2', 't14') :  None :       8.014837269799528 :  30.0\n",
      "        ('p2', 't15') :  None :        4.62340672199889 :  30.0\n",
      "        ('p2', 't16') :  None :     -12.638243990235708 :  30.0\n",
      "        ('p2', 't17') :  None :      1.2008164139490987 :  30.0\n",
      "        ('p2', 't18') :  None :     -1.2008164154554208 :  30.0\n",
      "        ('p2', 't19') :  None :   9.904965736495797e-10 :  30.0\n",
      "         ('p2', 't2') :  None :  -5.132534397489508e-10 :  30.0\n",
      "        ('p2', 't20') :  None :       3.477079871884314 :  30.0\n",
      "        ('p2', 't21') :  None :      29.999999998588436 :  30.0\n",
      "        ('p2', 't22') :  None :       9.469740089807459 :  30.0\n",
      "        ('p2', 't23') :  None :      0.4381290767141195 :  30.0\n",
      "        ('p2', 't24') :  None :   2.455266212564311e-09 :  30.0\n",
      "         ('p2', 't3') :  None :  1.0797407412610482e-10 :  30.0\n",
      "         ('p2', 't4') :  None :   8.019185315788491e-11 :  30.0\n",
      "         ('p2', 't5') :  None : -1.7274714991799556e-10 :  30.0\n",
      "         ('p2', 't6') :  None :  -1.491898160566052e-09 :  30.0\n",
      "         ('p2', 't7') :  None :     -23.416190028147525 :  30.0\n",
      "         ('p2', 't8') :  None :     -13.209733487762406 :  30.0\n",
      "         ('p2', 't9') :  None :     -12.638243991404522 :  30.0\n",
      "         ('p3', 't1') :  None :      6.6631142651871755 :  30.0\n",
      "        ('p3', 't10') :  None :                     0.0 :  30.0\n",
      "        ('p3', 't11') :  None :                     0.0 :  30.0\n",
      "        ('p3', 't12') :  None :                     0.0 :  30.0\n",
      "        ('p3', 't13') :  None :                     0.0 :  30.0\n",
      "        ('p3', 't14') :  None :       1.089223641084601 :  30.0\n",
      "        ('p3', 't15') :  None :       5.239860947370545 :  30.0\n",
      "        ('p3', 't16') :  None :      -6.329084588455146 :  30.0\n",
      "        ('p3', 't17') :  None :  1.4276224646891933e-10 :  30.0\n",
      "        ('p3', 't18') :  None : -1.4276224646891933e-10 :  30.0\n",
      "        ('p3', 't19') :  None :                     0.0 :  30.0\n",
      "         ('p3', 't2') :  None :  -5.706510819436517e-10 :  30.0\n",
      "        ('p3', 't20') :  None :   6.585310075024609e-10 :  30.0\n",
      "        ('p3', 't21') :  None :      29.999999998568995 :  30.0\n",
      "        ('p3', 't22') :  None :      10.678804020506476 :  30.0\n",
      "        ('p3', 't23') :  None :     0.49654628696075065 :  30.0\n",
      "        ('p3', 't24') :  None :   2.794422471197322e-09 :  30.0\n",
      "         ('p3', 't3') :  None :  1.2238388080731966e-10 :  30.0\n",
      "         ('p3', 't4') :  None :   9.089262675843202e-11 :  30.0\n",
      "         ('p3', 't5') :  None :  -1.957403128471924e-10 :  30.0\n",
      "         ('p3', 't6') :  None : -2.4586199742770987e-09 :  30.0\n",
      "         ('p3', 't7') :  None :     -26.538348696936623 :  30.0\n",
      "         ('p3', 't8') :  None :     -14.971031286089158 :  30.0\n",
      "         ('p3', 't9') :  None :      -6.329084588638835 :  30.0\n",
      "         ('p4', 't1') :  None :       5.260353367365724 :  50.0\n",
      "        ('p4', 't10') :  None : -1.0572875908110291e-10 :  50.0\n",
      "        ('p4', 't11') :  None :  -2.389413111814065e-10 :  50.0\n",
      "        ('p4', 't12') :  None : -1.8070522855850868e-10 :  50.0\n",
      "        ('p4', 't13') :  None :  1.2184386832814198e-10 :  50.0\n",
      "        ('p4', 't14') :  None :       7.171170188847441 :  50.0\n",
      "        ('p4', 't15') :  None :      4.1367323303219905 :  50.0\n",
      "        ('p4', 't16') :  None :     -11.307902517834208 :  50.0\n",
      "        ('p4', 't17') :  None :      1.0744146862970751 :  50.0\n",
      "        ('p4', 't18') :  None :      -1.074414687529611 :  50.0\n",
      "        ('p4', 't19') :  None :    8.52850234878133e-10 :  50.0\n",
      "         ('p4', 't2') :  None :  -5.002078751203953e-10 :  50.0\n",
      "        ('p4', 't20') :  None :   7.099544063748908e-09 :  50.0\n",
      "        ('p4', 't21') :  None :       33.06424817634765 :  50.0\n",
      "        ('p4', 't22') :  None :       5.361853886389255 :  50.0\n",
      "        ('p4', 't23') :  None :     0.39201022645582384 :  50.0\n",
      "        ('p4', 't24') :  None :  2.1529587002078188e-09 :  50.0\n",
      "         ('p4', 't3') :  None :   9.661960120865842e-11 :  50.0\n",
      "         ('p4', 't4') :  None :   7.176481631177012e-11 :  50.0\n",
      "         ('p4', 't5') :  None :   -1.54557255882537e-10 :  50.0\n",
      "         ('p4', 't6') :  None :  -8.393357120439759e-10 :  50.0\n",
      "         ('p4', 't7') :  None :      -20.95132792079491 :  50.0\n",
      "         ('p4', 't8') :  None :      -11.81923522552006 :  50.0\n",
      "         ('p4', 't9') :  None :     -11.307902518722273 :  50.0\n",
      "    constESS1 : Size=24\n",
      "        Key : Lower : Body                    : Upper\n",
      "         t1 :   0.0 :                     0.0 :   0.0\n",
      "        t10 :   0.0 :   2.842170943040401e-14 :   0.0\n",
      "        t11 :   0.0 :  -2.842170943040401e-14 :   0.0\n",
      "        t12 :   0.0 :   2.842170943040401e-14 :   0.0\n",
      "        t13 :   0.0 : -1.4210854715202004e-14 :   0.0\n",
      "        t14 :   0.0 :                     0.0 :   0.0\n",
      "        t15 :   0.0 :   9.947598300641403e-14 :   0.0\n",
      "        t16 :   0.0 :                     0.0 :   0.0\n",
      "        t17 :   0.0 :  -9.947598300641403e-14 :   0.0\n",
      "        t18 :   0.0 :  1.4210854715202004e-14 :   0.0\n",
      "        t19 :   0.0 :  -2.842170943040401e-14 :   0.0\n",
      "         t2 :   0.0 :                     0.0 :   0.0\n",
      "        t20 :   0.0 :  -7.105427357601002e-15 :   0.0\n",
      "        t21 :   0.0 :                     0.0 :   0.0\n",
      "        t22 :   0.0 :                     0.0 :   0.0\n",
      "        t23 :   0.0 :  -7.105427357601002e-15 :   0.0\n",
      "        t24 :   0.0 :  1.4210854715202004e-14 :   0.0\n",
      "         t3 :   0.0 :   2.842170943040401e-14 :   0.0\n",
      "         t4 :   0.0 :                     0.0 :   0.0\n",
      "         t5 :   0.0 :   5.684341886080802e-14 :   0.0\n",
      "         t6 :   0.0 :                     0.0 :   0.0\n",
      "         t7 :   0.0 :                     0.0 :   0.0\n",
      "         t8 :   0.0 :                     0.0 :   0.0\n",
      "         t9 :   0.0 :   5.684341886080802e-14 :   0.0\n",
      "    balance : Size=24\n",
      "        Key : Lower : Body                    : Upper\n",
      "         t1 :   0.0 :                     0.0 :   0.0\n",
      "        t10 :   0.0 :                     0.0 :   0.0\n",
      "        t11 :   0.0 :  2.2737367544323206e-13 :   0.0\n",
      "        t12 :   0.0 :                     0.0 :   0.0\n",
      "        t13 :   0.0 :                     0.0 :   0.0\n",
      "        t14 :   0.0 :                     0.0 :   0.0\n",
      "        t15 :   0.0 :                     0.0 :   0.0\n",
      "        t16 :   0.0 :                     0.0 :   0.0\n",
      "        t17 :   0.0 :  1.1368683772161603e-13 :   0.0\n",
      "        t18 :   0.0 :                     0.0 :   0.0\n",
      "        t19 :   0.0 :                     0.0 :   0.0\n",
      "         t2 :   0.0 :                     0.0 :   0.0\n",
      "        t20 :   0.0 :  1.1368683772161603e-13 :   0.0\n",
      "        t21 :   0.0 : -1.1368683772161603e-13 :   0.0\n",
      "        t22 :   0.0 :  1.1368683772161603e-13 :   0.0\n",
      "        t23 :   0.0 :  1.1368683772161603e-13 :   0.0\n",
      "        t24 :   0.0 :  1.1368683772161603e-13 :   0.0\n",
      "         t3 :   0.0 :                     0.0 :   0.0\n",
      "         t4 :   0.0 :                     0.0 :   0.0\n",
      "         t5 :   0.0 :                     0.0 :   0.0\n",
      "         t6 :   0.0 :                     0.0 :   0.0\n",
      "         t7 :   0.0 :                     0.0 :   0.0\n",
      "         t8 :   0.0 :                     0.0 :   0.0\n",
      "         t9 :   0.0 : -1.1368683772161603e-13 :   0.0\n",
      "    EMcalc : Size=1\n",
      "        Key  : Lower : Body                  : Upper\n",
      "        None :   0.0 : 3.259629011154175e-09 :   0.0\n"
     ]
    }
   ],
   "source": [
    "model.display() "
   ]
  },
  {
   "cell_type": "code",
   "execution_count": null,
   "id": "684a9c17",
   "metadata": {},
   "outputs": [],
   "source": []
  },
  {
   "cell_type": "code",
   "execution_count": null,
   "id": "4a6579f6",
   "metadata": {},
   "outputs": [],
   "source": []
  },
  {
   "cell_type": "code",
   "execution_count": 54,
   "id": "153a0fd5",
   "metadata": {
    "scrolled": true
   },
   "outputs": [
    {
     "data": {
      "text/plain": [
       "645504.0149465984"
      ]
     },
     "execution_count": 54,
     "metadata": {},
     "output_type": "execute_result"
    }
   ],
   "source": [
    "results1['Problem'][0]['Lower bound']  "
   ]
  },
  {
   "cell_type": "code",
   "execution_count": 55,
   "id": "edfa1396",
   "metadata": {},
   "outputs": [
    {
     "data": {
      "text/plain": [
       "645525.3251407502"
      ]
     },
     "execution_count": 55,
     "metadata": {},
     "output_type": "execute_result"
    }
   ],
   "source": [
    "results1['Problem'][0]['Upper bound']  "
   ]
  },
  {
   "cell_type": "code",
   "execution_count": 56,
   "id": "cd0ea2a3",
   "metadata": {},
   "outputs": [
    {
     "data": {
      "text/plain": [
       "False"
      ]
     },
     "execution_count": 56,
     "metadata": {},
     "output_type": "execute_result"
    }
   ],
   "source": [
    "results1['Problem'][0]['Upper bound']  == results1['Problem'][0]['Lower bound']  #equal to each other. Convergence"
   ]
  },
  {
   "cell_type": "markdown",
   "id": "f37a4df1",
   "metadata": {},
   "source": [
    "The total operating costs are TC=  $6.4553\u0002 10^5  = $0.645 million\n",
    "\n"
   ]
  },
  {
   "cell_type": "code",
   "execution_count": null,
   "id": "f99efd56",
   "metadata": {},
   "outputs": [],
   "source": []
  },
  {
   "cell_type": "code",
   "execution_count": 57,
   "id": "ccfedc96",
   "metadata": {},
   "outputs": [
    {
     "data": {
      "text/plain": [
       "241"
      ]
     },
     "execution_count": 57,
     "metadata": {},
     "output_type": "execute_result"
    }
   ],
   "source": [
    "results1['Problem'][0]['Number of constraints']  "
   ]
  },
  {
   "cell_type": "code",
   "execution_count": 58,
   "id": "1d4661c9",
   "metadata": {},
   "outputs": [
    {
     "data": {
      "text/plain": [
       "169"
      ]
     },
     "execution_count": 58,
     "metadata": {},
     "output_type": "execute_result"
    }
   ],
   "source": [
    "results1['Problem'][0]['Number of variables']  "
   ]
  },
  {
   "cell_type": "code",
   "execution_count": 59,
   "id": "9b424ddc",
   "metadata": {},
   "outputs": [
    {
     "data": {
      "text/plain": [
       "0"
      ]
     },
     "execution_count": 59,
     "metadata": {},
     "output_type": "execute_result"
    }
   ],
   "source": [
    "results1['Problem'][0]['Number of binary variables']  "
   ]
  },
  {
   "cell_type": "code",
   "execution_count": 60,
   "id": "c47afad3",
   "metadata": {},
   "outputs": [
    {
     "data": {
      "text/plain": [
       "0"
      ]
     },
     "execution_count": 60,
     "metadata": {},
     "output_type": "execute_result"
    }
   ],
   "source": [
    "results1['Problem'][0]['Number of integer variables']  "
   ]
  },
  {
   "cell_type": "code",
   "execution_count": 61,
   "id": "d4719a76",
   "metadata": {},
   "outputs": [
    {
     "data": {
      "text/plain": [
       "169"
      ]
     },
     "execution_count": 61,
     "metadata": {},
     "output_type": "execute_result"
    }
   ],
   "source": [
    "results1['Problem'][0]['Number of continuous variables']  "
   ]
  },
  {
   "cell_type": "code",
   "execution_count": 62,
   "id": "92988e3d",
   "metadata": {},
   "outputs": [
    {
     "data": {
      "text/plain": [
       "<ProblemSense.minimize: 'minimize'>"
      ]
     },
     "execution_count": 62,
     "metadata": {},
     "output_type": "execute_result"
    }
   ],
   "source": [
    "results1['Problem'][0]['Sense']   #minimization problem"
   ]
  },
  {
   "cell_type": "code",
   "execution_count": 63,
   "id": "0fef7192",
   "metadata": {},
   "outputs": [
    {
     "data": {
      "text/plain": [
       "'Model was solved to optimality (subject to tolerances), and an optimal solution is available.'"
      ]
     },
     "execution_count": 63,
     "metadata": {},
     "output_type": "execute_result"
    }
   ],
   "source": [
    "results1['Solver'][0]['Message']"
   ]
  },
  {
   "cell_type": "code",
   "execution_count": 64,
   "id": "f7293d7a",
   "metadata": {},
   "outputs": [
    {
     "data": {
      "text/plain": [
       "<TerminationCondition.optimal: 'optimal'>"
      ]
     },
     "execution_count": 64,
     "metadata": {},
     "output_type": "execute_result"
    }
   ],
   "source": [
    "results1['Solver'][0]['Termination condition']"
   ]
  },
  {
   "cell_type": "code",
   "execution_count": 65,
   "id": "6ad35695",
   "metadata": {},
   "outputs": [
    {
     "data": {
      "text/plain": [
       "0.1314859390258789"
      ]
     },
     "execution_count": 65,
     "metadata": {},
     "output_type": "execute_result"
    }
   ],
   "source": [
    "results1['Solver'][0]['Time'] #solution time ie how much time it took to solve"
   ]
  },
  {
   "cell_type": "code",
   "execution_count": null,
   "id": "09e082be",
   "metadata": {},
   "outputs": [],
   "source": []
  },
  {
   "cell_type": "code",
   "execution_count": 66,
   "id": "3d34828f",
   "metadata": {},
   "outputs": [
    {
     "data": {
      "text/plain": [
       "180.82691928051847"
      ]
     },
     "execution_count": 66,
     "metadata": {},
     "output_type": "execute_result"
    }
   ],
   "source": [
    "model.p['p1','t1'].value  #shows the optimal value ie output of p1 at t1 in MW."
   ]
  },
  {
   "cell_type": "code",
   "execution_count": null,
   "id": "628f6c5f",
   "metadata": {},
   "outputs": [],
   "source": []
  },
  {
   "cell_type": "code",
   "execution_count": null,
   "id": "a1db4f0f",
   "metadata": {},
   "outputs": [],
   "source": []
  },
  {
   "cell_type": "code",
   "execution_count": 67,
   "id": "0078dda4",
   "metadata": {},
   "outputs": [
    {
     "data": {
      "text/plain": [
       "dict_values([510, 530, 516, 510, 515, 544, 646, 686, 741, 734, 748, 760, 754, 700, 686, 720, 714, 761, 727, 714, 618, 584, 578, 544])"
      ]
     },
     "execution_count": 67,
     "metadata": {},
     "output_type": "execute_result"
    }
   ],
   "source": [
    "data.values()"
   ]
  },
  {
   "cell_type": "code",
   "execution_count": 68,
   "id": "893b4840",
   "metadata": {},
   "outputs": [],
   "source": [
    "#same as the values of the input 'data' that we defined above. This is the load in MW\n",
    "L_lst = [510.00,\n",
    "         530.00,\n",
    "         516.00,\n",
    "         510.00,\n",
    "         515.00,\n",
    "         544.00,\n",
    "         646.00,\n",
    "         686.00,\n",
    "         741.00,\n",
    "         734.00,\n",
    "         748.00,\n",
    "         760.00,\n",
    "         754.00,\n",
    "         700.00,\n",
    "         686.00,\n",
    "         720.00,\n",
    "         714.00,\n",
    "         761.00,\n",
    "         727.00,\n",
    "         714.00,\n",
    "         618.00,\n",
    "         584.00,\n",
    "         578.00,\n",
    "         544.00]"
   ]
  },
  {
   "cell_type": "code",
   "execution_count": null,
   "id": "9f42cb61",
   "metadata": {},
   "outputs": [],
   "source": []
  },
  {
   "cell_type": "code",
   "execution_count": null,
   "id": "0a38572c",
   "metadata": {},
   "outputs": [],
   "source": []
  },
  {
   "cell_type": "code",
   "execution_count": 69,
   "id": "a21fd6bd",
   "metadata": {},
   "outputs": [],
   "source": [
    "pg_lst = []\n",
    "\n",
    "for t in model.t_hours:  # ['t1', 't2', etc.... 't24'] . Eg 't1'\n",
    "    val = 0\n",
    "    for g in model.g_units:  # ['p1', 'p2', 'p3', 'p4']\n",
    "        val +=model.p[g, t].value  # we sum the output of p1, p2, p3, p4, at periot t. Ie total output per period. \n",
    "    \n",
    "    pg_lst.append(round(val, 2))"
   ]
  },
  {
   "cell_type": "code",
   "execution_count": 70,
   "id": "47325bf6",
   "metadata": {},
   "outputs": [
    {
     "data": {
      "text/plain": [
       "[555.92,\n",
       " 555.92,\n",
       " 555.92,\n",
       " 555.92,\n",
       " 555.92,\n",
       " 555.92,\n",
       " 646.0,\n",
       " 686.0,\n",
       " 716.28,\n",
       " 716.28,\n",
       " 716.28,\n",
       " 716.28,\n",
       " 716.28,\n",
       " 700.0,\n",
       " 686.0,\n",
       " 716.28,\n",
       " 714.0,\n",
       " 716.28,\n",
       " 716.28,\n",
       " 712.8,\n",
       " 618.0,\n",
       " 584.0,\n",
       " 582.05,\n",
       " 582.05]"
      ]
     },
     "execution_count": 70,
     "metadata": {},
     "output_type": "execute_result"
    }
   ],
   "source": [
    "pg_lst #total output (MW) per our"
   ]
  },
  {
   "cell_type": "code",
   "execution_count": null,
   "id": "ff2f0bf4",
   "metadata": {},
   "outputs": [],
   "source": []
  },
  {
   "cell_type": "code",
   "execution_count": 71,
   "id": "852e8060",
   "metadata": {},
   "outputs": [
    {
     "data": {
      "text/plain": [
       "[143.62,\n",
       " 168.25,\n",
       " 206.17,\n",
       " 249.8,\n",
       " 288.67,\n",
       " 300.0,\n",
       " 300.0,\n",
       " 300.0,\n",
       " 272.53,\n",
       " 252.83,\n",
       " 217.58,\n",
       " 169.0,\n",
       " 127.08,\n",
       " 127.08,\n",
       " 127.08,\n",
       " 122.95,\n",
       " 122.95,\n",
       " 73.25,\n",
       " 61.34,\n",
       " 60.0,\n",
       " 60.0,\n",
       " 60.0,\n",
       " 63.85,\n",
       " 100]"
      ]
     },
     "execution_count": 71,
     "metadata": {},
     "output_type": "execute_result"
    }
   ],
   "source": [
    "\n",
    "soc_lst = []\n",
    "\n",
    "for t in model.t_hours:  # ['t1', 't2', etc.... 't24'] . Eg 't1'\n",
    "    soc_lst.append(round(model.SOC[t].value, 2))\n",
    "\n",
    "soc_lst  # State of charge (MWh) of the storage unit"
   ]
  },
  {
   "cell_type": "code",
   "execution_count": null,
   "id": "abbaf491",
   "metadata": {},
   "outputs": [],
   "source": []
  },
  {
   "cell_type": "code",
   "execution_count": 72,
   "id": "019f8fcd",
   "metadata": {},
   "outputs": [
    {
     "data": {
      "text/plain": [
       "[0.0,\n",
       " 0.0,\n",
       " 0.0,\n",
       " 0.0,\n",
       " 0.0,\n",
       " 0.0,\n",
       " 0.0,\n",
       " 0.0,\n",
       " 24.72,\n",
       " 17.72,\n",
       " 31.72,\n",
       " 43.72,\n",
       " 37.72,\n",
       " 0.0,\n",
       " 0.0,\n",
       " 3.72,\n",
       " 0.0,\n",
       " 44.72,\n",
       " 10.72,\n",
       " 1.2,\n",
       " 0.0,\n",
       " 0.0,\n",
       " 0.0,\n",
       " 0.0]"
      ]
     },
     "execution_count": 72,
     "metadata": {},
     "output_type": "execute_result"
    }
   ],
   "source": [
    "pd_lst = []\n",
    "\n",
    "for t in model.t_hours:  # ['t1', 't2', etc.... 't24'] . Eg 't1'\n",
    "    pd_lst.append(round(model.Pd[t].value, 2))\n",
    "\n",
    "pd_lst  # discharged power (MW) of the storage unit"
   ]
  },
  {
   "cell_type": "code",
   "execution_count": null,
   "id": "2d317e84",
   "metadata": {},
   "outputs": [],
   "source": []
  },
  {
   "cell_type": "code",
   "execution_count": 73,
   "id": "bfdcd7e3",
   "metadata": {},
   "outputs": [
    {
     "data": {
      "text/plain": [
       "[45.92,\n",
       " 25.92,\n",
       " 39.92,\n",
       " 45.92,\n",
       " 40.92,\n",
       " 11.92,\n",
       " 0.0,\n",
       " 0.0,\n",
       " 0.0,\n",
       " 0.0,\n",
       " 0.0,\n",
       " 0.0,\n",
       " 0.0,\n",
       " 0.0,\n",
       " 0.0,\n",
       " 0.0,\n",
       " 0.0,\n",
       " 0.0,\n",
       " 0.0,\n",
       " 0.0,\n",
       " 0.0,\n",
       " 0.0,\n",
       " 4.05,\n",
       " 38.05]"
      ]
     },
     "execution_count": 73,
     "metadata": {},
     "output_type": "execute_result"
    }
   ],
   "source": [
    "pc_lst = []\n",
    "\n",
    "for t in model.t_hours:  # ['t1', 't2', etc.... 't24'] . Eg 't1'\n",
    "    pc_lst.append(round(model.Pc[t].value, 2))\n",
    "pc_lst  # charged power (MW) of the storage unit"
   ]
  },
  {
   "cell_type": "code",
   "execution_count": null,
   "id": "7d31d08d",
   "metadata": {},
   "outputs": [],
   "source": []
  },
  {
   "cell_type": "markdown",
   "id": "143121e7",
   "metadata": {},
   "source": [
    "#### placing all the above in one place"
   ]
  },
  {
   "cell_type": "code",
   "execution_count": 74,
   "id": "931f1060",
   "metadata": {},
   "outputs": [
    {
     "data": {
      "text/plain": [
       "[[510.0,\n",
       "  530.0,\n",
       "  516.0,\n",
       "  510.0,\n",
       "  515.0,\n",
       "  544.0,\n",
       "  646.0,\n",
       "  686.0,\n",
       "  741.0,\n",
       "  734.0,\n",
       "  748.0,\n",
       "  760.0,\n",
       "  754.0,\n",
       "  700.0,\n",
       "  686.0,\n",
       "  720.0,\n",
       "  714.0,\n",
       "  761.0,\n",
       "  727.0,\n",
       "  714.0,\n",
       "  618.0,\n",
       "  584.0,\n",
       "  578.0,\n",
       "  544.0],\n",
       " [555.92,\n",
       "  555.92,\n",
       "  555.92,\n",
       "  555.92,\n",
       "  555.92,\n",
       "  555.92,\n",
       "  646.0,\n",
       "  686.0,\n",
       "  716.28,\n",
       "  716.28,\n",
       "  716.28,\n",
       "  716.28,\n",
       "  716.28,\n",
       "  700.0,\n",
       "  686.0,\n",
       "  716.28,\n",
       "  714.0,\n",
       "  716.28,\n",
       "  716.28,\n",
       "  712.8,\n",
       "  618.0,\n",
       "  584.0,\n",
       "  582.05,\n",
       "  582.05],\n",
       " [143.62,\n",
       "  168.25,\n",
       "  206.17,\n",
       "  249.8,\n",
       "  288.67,\n",
       "  300.0,\n",
       "  300.0,\n",
       "  300.0,\n",
       "  272.53,\n",
       "  252.83,\n",
       "  217.58,\n",
       "  169.0,\n",
       "  127.08,\n",
       "  127.08,\n",
       "  127.08,\n",
       "  122.95,\n",
       "  122.95,\n",
       "  73.25,\n",
       "  61.34,\n",
       "  60.0,\n",
       "  60.0,\n",
       "  60.0,\n",
       "  63.85,\n",
       "  100],\n",
       " [0.0,\n",
       "  0.0,\n",
       "  0.0,\n",
       "  0.0,\n",
       "  0.0,\n",
       "  0.0,\n",
       "  0.0,\n",
       "  0.0,\n",
       "  24.72,\n",
       "  17.72,\n",
       "  31.72,\n",
       "  43.72,\n",
       "  37.72,\n",
       "  0.0,\n",
       "  0.0,\n",
       "  3.72,\n",
       "  0.0,\n",
       "  44.72,\n",
       "  10.72,\n",
       "  1.2,\n",
       "  0.0,\n",
       "  0.0,\n",
       "  0.0,\n",
       "  0.0],\n",
       " [45.92,\n",
       "  25.92,\n",
       "  39.92,\n",
       "  45.92,\n",
       "  40.92,\n",
       "  11.92,\n",
       "  0.0,\n",
       "  0.0,\n",
       "  0.0,\n",
       "  0.0,\n",
       "  0.0,\n",
       "  0.0,\n",
       "  0.0,\n",
       "  0.0,\n",
       "  0.0,\n",
       "  0.0,\n",
       "  0.0,\n",
       "  0.0,\n",
       "  0.0,\n",
       "  0.0,\n",
       "  0.0,\n",
       "  0.0,\n",
       "  4.05,\n",
       "  38.05]]"
      ]
     },
     "execution_count": 74,
     "metadata": {},
     "output_type": "execute_result"
    }
   ],
   "source": [
    "list1 = [ L_lst, pg_lst, soc_lst, pd_lst, pc_lst] #it is a list that has 5 lists inside\n",
    "list1"
   ]
  },
  {
   "cell_type": "code",
   "execution_count": 75,
   "id": "15a3f0be",
   "metadata": {},
   "outputs": [
    {
     "data": {
      "text/plain": [
       "array([[510.  , 530.  , 516.  , 510.  , 515.  , 544.  , 646.  , 686.  ,\n",
       "        741.  , 734.  , 748.  , 760.  , 754.  , 700.  , 686.  , 720.  ,\n",
       "        714.  , 761.  , 727.  , 714.  , 618.  , 584.  , 578.  , 544.  ],\n",
       "       [555.92, 555.92, 555.92, 555.92, 555.92, 555.92, 646.  , 686.  ,\n",
       "        716.28, 716.28, 716.28, 716.28, 716.28, 700.  , 686.  , 716.28,\n",
       "        714.  , 716.28, 716.28, 712.8 , 618.  , 584.  , 582.05, 582.05],\n",
       "       [143.62, 168.25, 206.17, 249.8 , 288.67, 300.  , 300.  , 300.  ,\n",
       "        272.53, 252.83, 217.58, 169.  , 127.08, 127.08, 127.08, 122.95,\n",
       "        122.95,  73.25,  61.34,  60.  ,  60.  ,  60.  ,  63.85, 100.  ],\n",
       "       [  0.  ,   0.  ,   0.  ,   0.  ,   0.  ,   0.  ,   0.  ,   0.  ,\n",
       "         24.72,  17.72,  31.72,  43.72,  37.72,   0.  ,   0.  ,   3.72,\n",
       "          0.  ,  44.72,  10.72,   1.2 ,   0.  ,   0.  ,   0.  ,   0.  ],\n",
       "       [ 45.92,  25.92,  39.92,  45.92,  40.92,  11.92,   0.  ,   0.  ,\n",
       "          0.  ,   0.  ,   0.  ,   0.  ,   0.  ,   0.  ,   0.  ,   0.  ,\n",
       "          0.  ,   0.  ,   0.  ,   0.  ,   0.  ,   0.  ,   4.05,  38.05]])"
      ]
     },
     "execution_count": 75,
     "metadata": {},
     "output_type": "execute_result"
    }
   ],
   "source": [
    "array1 = np.array(list1) #the list is now converted to an array\n",
    "array1"
   ]
  },
  {
   "cell_type": "code",
   "execution_count": 76,
   "id": "15abe891",
   "metadata": {},
   "outputs": [
    {
     "data": {
      "text/html": [
       "<div>\n",
       "<style scoped>\n",
       "    .dataframe tbody tr th:only-of-type {\n",
       "        vertical-align: middle;\n",
       "    }\n",
       "\n",
       "    .dataframe tbody tr th {\n",
       "        vertical-align: top;\n",
       "    }\n",
       "\n",
       "    .dataframe thead th {\n",
       "        text-align: right;\n",
       "    }\n",
       "</style>\n",
       "<table border=\"1\" class=\"dataframe\">\n",
       "  <thead>\n",
       "    <tr style=\"text-align: right;\">\n",
       "      <th></th>\n",
       "      <th>0</th>\n",
       "      <th>1</th>\n",
       "      <th>2</th>\n",
       "      <th>3</th>\n",
       "      <th>4</th>\n",
       "      <th>5</th>\n",
       "      <th>6</th>\n",
       "      <th>7</th>\n",
       "      <th>8</th>\n",
       "      <th>9</th>\n",
       "      <th>...</th>\n",
       "      <th>14</th>\n",
       "      <th>15</th>\n",
       "      <th>16</th>\n",
       "      <th>17</th>\n",
       "      <th>18</th>\n",
       "      <th>19</th>\n",
       "      <th>20</th>\n",
       "      <th>21</th>\n",
       "      <th>22</th>\n",
       "      <th>23</th>\n",
       "    </tr>\n",
       "  </thead>\n",
       "  <tbody>\n",
       "    <tr>\n",
       "      <th>0</th>\n",
       "      <td>510.00</td>\n",
       "      <td>530.00</td>\n",
       "      <td>516.00</td>\n",
       "      <td>510.00</td>\n",
       "      <td>515.00</td>\n",
       "      <td>544.00</td>\n",
       "      <td>646.0</td>\n",
       "      <td>686.0</td>\n",
       "      <td>741.00</td>\n",
       "      <td>734.00</td>\n",
       "      <td>...</td>\n",
       "      <td>686.00</td>\n",
       "      <td>720.00</td>\n",
       "      <td>714.00</td>\n",
       "      <td>761.00</td>\n",
       "      <td>727.00</td>\n",
       "      <td>714.0</td>\n",
       "      <td>618.0</td>\n",
       "      <td>584.0</td>\n",
       "      <td>578.00</td>\n",
       "      <td>544.00</td>\n",
       "    </tr>\n",
       "    <tr>\n",
       "      <th>1</th>\n",
       "      <td>555.92</td>\n",
       "      <td>555.92</td>\n",
       "      <td>555.92</td>\n",
       "      <td>555.92</td>\n",
       "      <td>555.92</td>\n",
       "      <td>555.92</td>\n",
       "      <td>646.0</td>\n",
       "      <td>686.0</td>\n",
       "      <td>716.28</td>\n",
       "      <td>716.28</td>\n",
       "      <td>...</td>\n",
       "      <td>686.00</td>\n",
       "      <td>716.28</td>\n",
       "      <td>714.00</td>\n",
       "      <td>716.28</td>\n",
       "      <td>716.28</td>\n",
       "      <td>712.8</td>\n",
       "      <td>618.0</td>\n",
       "      <td>584.0</td>\n",
       "      <td>582.05</td>\n",
       "      <td>582.05</td>\n",
       "    </tr>\n",
       "    <tr>\n",
       "      <th>2</th>\n",
       "      <td>143.62</td>\n",
       "      <td>168.25</td>\n",
       "      <td>206.17</td>\n",
       "      <td>249.80</td>\n",
       "      <td>288.67</td>\n",
       "      <td>300.00</td>\n",
       "      <td>300.0</td>\n",
       "      <td>300.0</td>\n",
       "      <td>272.53</td>\n",
       "      <td>252.83</td>\n",
       "      <td>...</td>\n",
       "      <td>127.08</td>\n",
       "      <td>122.95</td>\n",
       "      <td>122.95</td>\n",
       "      <td>73.25</td>\n",
       "      <td>61.34</td>\n",
       "      <td>60.0</td>\n",
       "      <td>60.0</td>\n",
       "      <td>60.0</td>\n",
       "      <td>63.85</td>\n",
       "      <td>100.00</td>\n",
       "    </tr>\n",
       "    <tr>\n",
       "      <th>3</th>\n",
       "      <td>0.00</td>\n",
       "      <td>0.00</td>\n",
       "      <td>0.00</td>\n",
       "      <td>0.00</td>\n",
       "      <td>0.00</td>\n",
       "      <td>0.00</td>\n",
       "      <td>0.0</td>\n",
       "      <td>0.0</td>\n",
       "      <td>24.72</td>\n",
       "      <td>17.72</td>\n",
       "      <td>...</td>\n",
       "      <td>0.00</td>\n",
       "      <td>3.72</td>\n",
       "      <td>0.00</td>\n",
       "      <td>44.72</td>\n",
       "      <td>10.72</td>\n",
       "      <td>1.2</td>\n",
       "      <td>0.0</td>\n",
       "      <td>0.0</td>\n",
       "      <td>0.00</td>\n",
       "      <td>0.00</td>\n",
       "    </tr>\n",
       "    <tr>\n",
       "      <th>4</th>\n",
       "      <td>45.92</td>\n",
       "      <td>25.92</td>\n",
       "      <td>39.92</td>\n",
       "      <td>45.92</td>\n",
       "      <td>40.92</td>\n",
       "      <td>11.92</td>\n",
       "      <td>0.0</td>\n",
       "      <td>0.0</td>\n",
       "      <td>0.00</td>\n",
       "      <td>0.00</td>\n",
       "      <td>...</td>\n",
       "      <td>0.00</td>\n",
       "      <td>0.00</td>\n",
       "      <td>0.00</td>\n",
       "      <td>0.00</td>\n",
       "      <td>0.00</td>\n",
       "      <td>0.0</td>\n",
       "      <td>0.0</td>\n",
       "      <td>0.0</td>\n",
       "      <td>4.05</td>\n",
       "      <td>38.05</td>\n",
       "    </tr>\n",
       "  </tbody>\n",
       "</table>\n",
       "<p>5 rows × 24 columns</p>\n",
       "</div>"
      ],
      "text/plain": [
       "       0       1       2       3       4       5      6      7       8   \\\n",
       "0  510.00  530.00  516.00  510.00  515.00  544.00  646.0  686.0  741.00   \n",
       "1  555.92  555.92  555.92  555.92  555.92  555.92  646.0  686.0  716.28   \n",
       "2  143.62  168.25  206.17  249.80  288.67  300.00  300.0  300.0  272.53   \n",
       "3    0.00    0.00    0.00    0.00    0.00    0.00    0.0    0.0   24.72   \n",
       "4   45.92   25.92   39.92   45.92   40.92   11.92    0.0    0.0    0.00   \n",
       "\n",
       "       9   ...      14      15      16      17      18     19     20     21  \\\n",
       "0  734.00  ...  686.00  720.00  714.00  761.00  727.00  714.0  618.0  584.0   \n",
       "1  716.28  ...  686.00  716.28  714.00  716.28  716.28  712.8  618.0  584.0   \n",
       "2  252.83  ...  127.08  122.95  122.95   73.25   61.34   60.0   60.0   60.0   \n",
       "3   17.72  ...    0.00    3.72    0.00   44.72   10.72    1.2    0.0    0.0   \n",
       "4    0.00  ...    0.00    0.00    0.00    0.00    0.00    0.0    0.0    0.0   \n",
       "\n",
       "       22      23  \n",
       "0  578.00  544.00  \n",
       "1  582.05  582.05  \n",
       "2   63.85  100.00  \n",
       "3    0.00    0.00  \n",
       "4    4.05   38.05  \n",
       "\n",
       "[5 rows x 24 columns]"
      ]
     },
     "execution_count": 76,
     "metadata": {},
     "output_type": "execute_result"
    }
   ],
   "source": [
    "dataframe1 = pd.DataFrame(array1) #the array is converted to a dataframe\n",
    "dataframe1"
   ]
  },
  {
   "cell_type": "code",
   "execution_count": 77,
   "id": "4de0b22c",
   "metadata": {},
   "outputs": [],
   "source": [
    "data_tables = dataframe1.T  #we transpose it ie its rows become columns, and its columns become rows.\n"
   ]
  },
  {
   "cell_type": "code",
   "execution_count": 78,
   "id": "0a07aa8e",
   "metadata": {},
   "outputs": [
    {
     "data": {
      "text/html": [
       "<div>\n",
       "<style scoped>\n",
       "    .dataframe tbody tr th:only-of-type {\n",
       "        vertical-align: middle;\n",
       "    }\n",
       "\n",
       "    .dataframe tbody tr th {\n",
       "        vertical-align: top;\n",
       "    }\n",
       "\n",
       "    .dataframe thead th {\n",
       "        text-align: right;\n",
       "    }\n",
       "</style>\n",
       "<table border=\"1\" class=\"dataframe\">\n",
       "  <thead>\n",
       "    <tr style=\"text-align: right;\">\n",
       "      <th></th>\n",
       "      <th>0</th>\n",
       "      <th>1</th>\n",
       "      <th>2</th>\n",
       "      <th>3</th>\n",
       "      <th>4</th>\n",
       "    </tr>\n",
       "  </thead>\n",
       "  <tbody>\n",
       "    <tr>\n",
       "      <th>0</th>\n",
       "      <td>510.0</td>\n",
       "      <td>555.92</td>\n",
       "      <td>143.62</td>\n",
       "      <td>0.00</td>\n",
       "      <td>45.92</td>\n",
       "    </tr>\n",
       "    <tr>\n",
       "      <th>1</th>\n",
       "      <td>530.0</td>\n",
       "      <td>555.92</td>\n",
       "      <td>168.25</td>\n",
       "      <td>0.00</td>\n",
       "      <td>25.92</td>\n",
       "    </tr>\n",
       "    <tr>\n",
       "      <th>2</th>\n",
       "      <td>516.0</td>\n",
       "      <td>555.92</td>\n",
       "      <td>206.17</td>\n",
       "      <td>0.00</td>\n",
       "      <td>39.92</td>\n",
       "    </tr>\n",
       "    <tr>\n",
       "      <th>3</th>\n",
       "      <td>510.0</td>\n",
       "      <td>555.92</td>\n",
       "      <td>249.80</td>\n",
       "      <td>0.00</td>\n",
       "      <td>45.92</td>\n",
       "    </tr>\n",
       "    <tr>\n",
       "      <th>4</th>\n",
       "      <td>515.0</td>\n",
       "      <td>555.92</td>\n",
       "      <td>288.67</td>\n",
       "      <td>0.00</td>\n",
       "      <td>40.92</td>\n",
       "    </tr>\n",
       "    <tr>\n",
       "      <th>5</th>\n",
       "      <td>544.0</td>\n",
       "      <td>555.92</td>\n",
       "      <td>300.00</td>\n",
       "      <td>0.00</td>\n",
       "      <td>11.92</td>\n",
       "    </tr>\n",
       "    <tr>\n",
       "      <th>6</th>\n",
       "      <td>646.0</td>\n",
       "      <td>646.00</td>\n",
       "      <td>300.00</td>\n",
       "      <td>0.00</td>\n",
       "      <td>0.00</td>\n",
       "    </tr>\n",
       "    <tr>\n",
       "      <th>7</th>\n",
       "      <td>686.0</td>\n",
       "      <td>686.00</td>\n",
       "      <td>300.00</td>\n",
       "      <td>0.00</td>\n",
       "      <td>0.00</td>\n",
       "    </tr>\n",
       "    <tr>\n",
       "      <th>8</th>\n",
       "      <td>741.0</td>\n",
       "      <td>716.28</td>\n",
       "      <td>272.53</td>\n",
       "      <td>24.72</td>\n",
       "      <td>0.00</td>\n",
       "    </tr>\n",
       "    <tr>\n",
       "      <th>9</th>\n",
       "      <td>734.0</td>\n",
       "      <td>716.28</td>\n",
       "      <td>252.83</td>\n",
       "      <td>17.72</td>\n",
       "      <td>0.00</td>\n",
       "    </tr>\n",
       "    <tr>\n",
       "      <th>10</th>\n",
       "      <td>748.0</td>\n",
       "      <td>716.28</td>\n",
       "      <td>217.58</td>\n",
       "      <td>31.72</td>\n",
       "      <td>0.00</td>\n",
       "    </tr>\n",
       "    <tr>\n",
       "      <th>11</th>\n",
       "      <td>760.0</td>\n",
       "      <td>716.28</td>\n",
       "      <td>169.00</td>\n",
       "      <td>43.72</td>\n",
       "      <td>0.00</td>\n",
       "    </tr>\n",
       "    <tr>\n",
       "      <th>12</th>\n",
       "      <td>754.0</td>\n",
       "      <td>716.28</td>\n",
       "      <td>127.08</td>\n",
       "      <td>37.72</td>\n",
       "      <td>0.00</td>\n",
       "    </tr>\n",
       "    <tr>\n",
       "      <th>13</th>\n",
       "      <td>700.0</td>\n",
       "      <td>700.00</td>\n",
       "      <td>127.08</td>\n",
       "      <td>0.00</td>\n",
       "      <td>0.00</td>\n",
       "    </tr>\n",
       "    <tr>\n",
       "      <th>14</th>\n",
       "      <td>686.0</td>\n",
       "      <td>686.00</td>\n",
       "      <td>127.08</td>\n",
       "      <td>0.00</td>\n",
       "      <td>0.00</td>\n",
       "    </tr>\n",
       "    <tr>\n",
       "      <th>15</th>\n",
       "      <td>720.0</td>\n",
       "      <td>716.28</td>\n",
       "      <td>122.95</td>\n",
       "      <td>3.72</td>\n",
       "      <td>0.00</td>\n",
       "    </tr>\n",
       "    <tr>\n",
       "      <th>16</th>\n",
       "      <td>714.0</td>\n",
       "      <td>714.00</td>\n",
       "      <td>122.95</td>\n",
       "      <td>0.00</td>\n",
       "      <td>0.00</td>\n",
       "    </tr>\n",
       "    <tr>\n",
       "      <th>17</th>\n",
       "      <td>761.0</td>\n",
       "      <td>716.28</td>\n",
       "      <td>73.25</td>\n",
       "      <td>44.72</td>\n",
       "      <td>0.00</td>\n",
       "    </tr>\n",
       "    <tr>\n",
       "      <th>18</th>\n",
       "      <td>727.0</td>\n",
       "      <td>716.28</td>\n",
       "      <td>61.34</td>\n",
       "      <td>10.72</td>\n",
       "      <td>0.00</td>\n",
       "    </tr>\n",
       "    <tr>\n",
       "      <th>19</th>\n",
       "      <td>714.0</td>\n",
       "      <td>712.80</td>\n",
       "      <td>60.00</td>\n",
       "      <td>1.20</td>\n",
       "      <td>0.00</td>\n",
       "    </tr>\n",
       "    <tr>\n",
       "      <th>20</th>\n",
       "      <td>618.0</td>\n",
       "      <td>618.00</td>\n",
       "      <td>60.00</td>\n",
       "      <td>0.00</td>\n",
       "      <td>0.00</td>\n",
       "    </tr>\n",
       "    <tr>\n",
       "      <th>21</th>\n",
       "      <td>584.0</td>\n",
       "      <td>584.00</td>\n",
       "      <td>60.00</td>\n",
       "      <td>0.00</td>\n",
       "      <td>0.00</td>\n",
       "    </tr>\n",
       "    <tr>\n",
       "      <th>22</th>\n",
       "      <td>578.0</td>\n",
       "      <td>582.05</td>\n",
       "      <td>63.85</td>\n",
       "      <td>0.00</td>\n",
       "      <td>4.05</td>\n",
       "    </tr>\n",
       "    <tr>\n",
       "      <th>23</th>\n",
       "      <td>544.0</td>\n",
       "      <td>582.05</td>\n",
       "      <td>100.00</td>\n",
       "      <td>0.00</td>\n",
       "      <td>38.05</td>\n",
       "    </tr>\n",
       "  </tbody>\n",
       "</table>\n",
       "</div>"
      ],
      "text/plain": [
       "        0       1       2      3      4\n",
       "0   510.0  555.92  143.62   0.00  45.92\n",
       "1   530.0  555.92  168.25   0.00  25.92\n",
       "2   516.0  555.92  206.17   0.00  39.92\n",
       "3   510.0  555.92  249.80   0.00  45.92\n",
       "4   515.0  555.92  288.67   0.00  40.92\n",
       "5   544.0  555.92  300.00   0.00  11.92\n",
       "6   646.0  646.00  300.00   0.00   0.00\n",
       "7   686.0  686.00  300.00   0.00   0.00\n",
       "8   741.0  716.28  272.53  24.72   0.00\n",
       "9   734.0  716.28  252.83  17.72   0.00\n",
       "10  748.0  716.28  217.58  31.72   0.00\n",
       "11  760.0  716.28  169.00  43.72   0.00\n",
       "12  754.0  716.28  127.08  37.72   0.00\n",
       "13  700.0  700.00  127.08   0.00   0.00\n",
       "14  686.0  686.00  127.08   0.00   0.00\n",
       "15  720.0  716.28  122.95   3.72   0.00\n",
       "16  714.0  714.00  122.95   0.00   0.00\n",
       "17  761.0  716.28   73.25  44.72   0.00\n",
       "18  727.0  716.28   61.34  10.72   0.00\n",
       "19  714.0  712.80   60.00   1.20   0.00\n",
       "20  618.0  618.00   60.00   0.00   0.00\n",
       "21  584.0  584.00   60.00   0.00   0.00\n",
       "22  578.0  582.05   63.85   0.00   4.05\n",
       "23  544.0  582.05  100.00   0.00  38.05"
      ]
     },
     "execution_count": 78,
     "metadata": {},
     "output_type": "execute_result"
    }
   ],
   "source": [
    "data_tables"
   ]
  },
  {
   "cell_type": "code",
   "execution_count": 79,
   "id": "8103e555",
   "metadata": {},
   "outputs": [],
   "source": [
    "data_tables.index = range(1,25)  # we set the row index ie the names of the rows, to be 1...24"
   ]
  },
  {
   "cell_type": "code",
   "execution_count": 80,
   "id": "6c515cab",
   "metadata": {},
   "outputs": [
    {
     "data": {
      "text/html": [
       "<div>\n",
       "<style scoped>\n",
       "    .dataframe tbody tr th:only-of-type {\n",
       "        vertical-align: middle;\n",
       "    }\n",
       "\n",
       "    .dataframe tbody tr th {\n",
       "        vertical-align: top;\n",
       "    }\n",
       "\n",
       "    .dataframe thead th {\n",
       "        text-align: right;\n",
       "    }\n",
       "</style>\n",
       "<table border=\"1\" class=\"dataframe\">\n",
       "  <thead>\n",
       "    <tr style=\"text-align: right;\">\n",
       "      <th></th>\n",
       "      <th>0</th>\n",
       "      <th>1</th>\n",
       "      <th>2</th>\n",
       "      <th>3</th>\n",
       "      <th>4</th>\n",
       "    </tr>\n",
       "  </thead>\n",
       "  <tbody>\n",
       "    <tr>\n",
       "      <th>1</th>\n",
       "      <td>510.0</td>\n",
       "      <td>555.92</td>\n",
       "      <td>143.62</td>\n",
       "      <td>0.00</td>\n",
       "      <td>45.92</td>\n",
       "    </tr>\n",
       "    <tr>\n",
       "      <th>2</th>\n",
       "      <td>530.0</td>\n",
       "      <td>555.92</td>\n",
       "      <td>168.25</td>\n",
       "      <td>0.00</td>\n",
       "      <td>25.92</td>\n",
       "    </tr>\n",
       "    <tr>\n",
       "      <th>3</th>\n",
       "      <td>516.0</td>\n",
       "      <td>555.92</td>\n",
       "      <td>206.17</td>\n",
       "      <td>0.00</td>\n",
       "      <td>39.92</td>\n",
       "    </tr>\n",
       "    <tr>\n",
       "      <th>4</th>\n",
       "      <td>510.0</td>\n",
       "      <td>555.92</td>\n",
       "      <td>249.80</td>\n",
       "      <td>0.00</td>\n",
       "      <td>45.92</td>\n",
       "    </tr>\n",
       "    <tr>\n",
       "      <th>5</th>\n",
       "      <td>515.0</td>\n",
       "      <td>555.92</td>\n",
       "      <td>288.67</td>\n",
       "      <td>0.00</td>\n",
       "      <td>40.92</td>\n",
       "    </tr>\n",
       "    <tr>\n",
       "      <th>6</th>\n",
       "      <td>544.0</td>\n",
       "      <td>555.92</td>\n",
       "      <td>300.00</td>\n",
       "      <td>0.00</td>\n",
       "      <td>11.92</td>\n",
       "    </tr>\n",
       "    <tr>\n",
       "      <th>7</th>\n",
       "      <td>646.0</td>\n",
       "      <td>646.00</td>\n",
       "      <td>300.00</td>\n",
       "      <td>0.00</td>\n",
       "      <td>0.00</td>\n",
       "    </tr>\n",
       "    <tr>\n",
       "      <th>8</th>\n",
       "      <td>686.0</td>\n",
       "      <td>686.00</td>\n",
       "      <td>300.00</td>\n",
       "      <td>0.00</td>\n",
       "      <td>0.00</td>\n",
       "    </tr>\n",
       "    <tr>\n",
       "      <th>9</th>\n",
       "      <td>741.0</td>\n",
       "      <td>716.28</td>\n",
       "      <td>272.53</td>\n",
       "      <td>24.72</td>\n",
       "      <td>0.00</td>\n",
       "    </tr>\n",
       "    <tr>\n",
       "      <th>10</th>\n",
       "      <td>734.0</td>\n",
       "      <td>716.28</td>\n",
       "      <td>252.83</td>\n",
       "      <td>17.72</td>\n",
       "      <td>0.00</td>\n",
       "    </tr>\n",
       "    <tr>\n",
       "      <th>11</th>\n",
       "      <td>748.0</td>\n",
       "      <td>716.28</td>\n",
       "      <td>217.58</td>\n",
       "      <td>31.72</td>\n",
       "      <td>0.00</td>\n",
       "    </tr>\n",
       "    <tr>\n",
       "      <th>12</th>\n",
       "      <td>760.0</td>\n",
       "      <td>716.28</td>\n",
       "      <td>169.00</td>\n",
       "      <td>43.72</td>\n",
       "      <td>0.00</td>\n",
       "    </tr>\n",
       "    <tr>\n",
       "      <th>13</th>\n",
       "      <td>754.0</td>\n",
       "      <td>716.28</td>\n",
       "      <td>127.08</td>\n",
       "      <td>37.72</td>\n",
       "      <td>0.00</td>\n",
       "    </tr>\n",
       "    <tr>\n",
       "      <th>14</th>\n",
       "      <td>700.0</td>\n",
       "      <td>700.00</td>\n",
       "      <td>127.08</td>\n",
       "      <td>0.00</td>\n",
       "      <td>0.00</td>\n",
       "    </tr>\n",
       "    <tr>\n",
       "      <th>15</th>\n",
       "      <td>686.0</td>\n",
       "      <td>686.00</td>\n",
       "      <td>127.08</td>\n",
       "      <td>0.00</td>\n",
       "      <td>0.00</td>\n",
       "    </tr>\n",
       "    <tr>\n",
       "      <th>16</th>\n",
       "      <td>720.0</td>\n",
       "      <td>716.28</td>\n",
       "      <td>122.95</td>\n",
       "      <td>3.72</td>\n",
       "      <td>0.00</td>\n",
       "    </tr>\n",
       "    <tr>\n",
       "      <th>17</th>\n",
       "      <td>714.0</td>\n",
       "      <td>714.00</td>\n",
       "      <td>122.95</td>\n",
       "      <td>0.00</td>\n",
       "      <td>0.00</td>\n",
       "    </tr>\n",
       "    <tr>\n",
       "      <th>18</th>\n",
       "      <td>761.0</td>\n",
       "      <td>716.28</td>\n",
       "      <td>73.25</td>\n",
       "      <td>44.72</td>\n",
       "      <td>0.00</td>\n",
       "    </tr>\n",
       "    <tr>\n",
       "      <th>19</th>\n",
       "      <td>727.0</td>\n",
       "      <td>716.28</td>\n",
       "      <td>61.34</td>\n",
       "      <td>10.72</td>\n",
       "      <td>0.00</td>\n",
       "    </tr>\n",
       "    <tr>\n",
       "      <th>20</th>\n",
       "      <td>714.0</td>\n",
       "      <td>712.80</td>\n",
       "      <td>60.00</td>\n",
       "      <td>1.20</td>\n",
       "      <td>0.00</td>\n",
       "    </tr>\n",
       "    <tr>\n",
       "      <th>21</th>\n",
       "      <td>618.0</td>\n",
       "      <td>618.00</td>\n",
       "      <td>60.00</td>\n",
       "      <td>0.00</td>\n",
       "      <td>0.00</td>\n",
       "    </tr>\n",
       "    <tr>\n",
       "      <th>22</th>\n",
       "      <td>584.0</td>\n",
       "      <td>584.00</td>\n",
       "      <td>60.00</td>\n",
       "      <td>0.00</td>\n",
       "      <td>0.00</td>\n",
       "    </tr>\n",
       "    <tr>\n",
       "      <th>23</th>\n",
       "      <td>578.0</td>\n",
       "      <td>582.05</td>\n",
       "      <td>63.85</td>\n",
       "      <td>0.00</td>\n",
       "      <td>4.05</td>\n",
       "    </tr>\n",
       "    <tr>\n",
       "      <th>24</th>\n",
       "      <td>544.0</td>\n",
       "      <td>582.05</td>\n",
       "      <td>100.00</td>\n",
       "      <td>0.00</td>\n",
       "      <td>38.05</td>\n",
       "    </tr>\n",
       "  </tbody>\n",
       "</table>\n",
       "</div>"
      ],
      "text/plain": [
       "        0       1       2      3      4\n",
       "1   510.0  555.92  143.62   0.00  45.92\n",
       "2   530.0  555.92  168.25   0.00  25.92\n",
       "3   516.0  555.92  206.17   0.00  39.92\n",
       "4   510.0  555.92  249.80   0.00  45.92\n",
       "5   515.0  555.92  288.67   0.00  40.92\n",
       "6   544.0  555.92  300.00   0.00  11.92\n",
       "7   646.0  646.00  300.00   0.00   0.00\n",
       "8   686.0  686.00  300.00   0.00   0.00\n",
       "9   741.0  716.28  272.53  24.72   0.00\n",
       "10  734.0  716.28  252.83  17.72   0.00\n",
       "11  748.0  716.28  217.58  31.72   0.00\n",
       "12  760.0  716.28  169.00  43.72   0.00\n",
       "13  754.0  716.28  127.08  37.72   0.00\n",
       "14  700.0  700.00  127.08   0.00   0.00\n",
       "15  686.0  686.00  127.08   0.00   0.00\n",
       "16  720.0  716.28  122.95   3.72   0.00\n",
       "17  714.0  714.00  122.95   0.00   0.00\n",
       "18  761.0  716.28   73.25  44.72   0.00\n",
       "19  727.0  716.28   61.34  10.72   0.00\n",
       "20  714.0  712.80   60.00   1.20   0.00\n",
       "21  618.0  618.00   60.00   0.00   0.00\n",
       "22  584.0  584.00   60.00   0.00   0.00\n",
       "23  578.0  582.05   63.85   0.00   4.05\n",
       "24  544.0  582.05  100.00   0.00  38.05"
      ]
     },
     "execution_count": 80,
     "metadata": {},
     "output_type": "execute_result"
    }
   ],
   "source": [
    "data_tables"
   ]
  },
  {
   "cell_type": "code",
   "execution_count": 81,
   "id": "a17ae54b",
   "metadata": {},
   "outputs": [
    {
     "data": {
      "text/html": [
       "<div>\n",
       "<style scoped>\n",
       "    .dataframe tbody tr th:only-of-type {\n",
       "        vertical-align: middle;\n",
       "    }\n",
       "\n",
       "    .dataframe tbody tr th {\n",
       "        vertical-align: top;\n",
       "    }\n",
       "\n",
       "    .dataframe thead th {\n",
       "        text-align: right;\n",
       "    }\n",
       "</style>\n",
       "<table border=\"1\" class=\"dataframe\">\n",
       "  <thead>\n",
       "    <tr style=\"text-align: right;\">\n",
       "      <th></th>\n",
       "      <th>Lt</th>\n",
       "      <th>P'g</th>\n",
       "      <th>SOC</th>\n",
       "      <th>PD</th>\n",
       "      <th>Pc</th>\n",
       "    </tr>\n",
       "  </thead>\n",
       "  <tbody>\n",
       "    <tr>\n",
       "      <th>1</th>\n",
       "      <td>510.0</td>\n",
       "      <td>555.92</td>\n",
       "      <td>143.62</td>\n",
       "      <td>0.00</td>\n",
       "      <td>45.92</td>\n",
       "    </tr>\n",
       "    <tr>\n",
       "      <th>2</th>\n",
       "      <td>530.0</td>\n",
       "      <td>555.92</td>\n",
       "      <td>168.25</td>\n",
       "      <td>0.00</td>\n",
       "      <td>25.92</td>\n",
       "    </tr>\n",
       "    <tr>\n",
       "      <th>3</th>\n",
       "      <td>516.0</td>\n",
       "      <td>555.92</td>\n",
       "      <td>206.17</td>\n",
       "      <td>0.00</td>\n",
       "      <td>39.92</td>\n",
       "    </tr>\n",
       "    <tr>\n",
       "      <th>4</th>\n",
       "      <td>510.0</td>\n",
       "      <td>555.92</td>\n",
       "      <td>249.80</td>\n",
       "      <td>0.00</td>\n",
       "      <td>45.92</td>\n",
       "    </tr>\n",
       "    <tr>\n",
       "      <th>5</th>\n",
       "      <td>515.0</td>\n",
       "      <td>555.92</td>\n",
       "      <td>288.67</td>\n",
       "      <td>0.00</td>\n",
       "      <td>40.92</td>\n",
       "    </tr>\n",
       "    <tr>\n",
       "      <th>6</th>\n",
       "      <td>544.0</td>\n",
       "      <td>555.92</td>\n",
       "      <td>300.00</td>\n",
       "      <td>0.00</td>\n",
       "      <td>11.92</td>\n",
       "    </tr>\n",
       "    <tr>\n",
       "      <th>7</th>\n",
       "      <td>646.0</td>\n",
       "      <td>646.00</td>\n",
       "      <td>300.00</td>\n",
       "      <td>0.00</td>\n",
       "      <td>0.00</td>\n",
       "    </tr>\n",
       "    <tr>\n",
       "      <th>8</th>\n",
       "      <td>686.0</td>\n",
       "      <td>686.00</td>\n",
       "      <td>300.00</td>\n",
       "      <td>0.00</td>\n",
       "      <td>0.00</td>\n",
       "    </tr>\n",
       "    <tr>\n",
       "      <th>9</th>\n",
       "      <td>741.0</td>\n",
       "      <td>716.28</td>\n",
       "      <td>272.53</td>\n",
       "      <td>24.72</td>\n",
       "      <td>0.00</td>\n",
       "    </tr>\n",
       "    <tr>\n",
       "      <th>10</th>\n",
       "      <td>734.0</td>\n",
       "      <td>716.28</td>\n",
       "      <td>252.83</td>\n",
       "      <td>17.72</td>\n",
       "      <td>0.00</td>\n",
       "    </tr>\n",
       "    <tr>\n",
       "      <th>11</th>\n",
       "      <td>748.0</td>\n",
       "      <td>716.28</td>\n",
       "      <td>217.58</td>\n",
       "      <td>31.72</td>\n",
       "      <td>0.00</td>\n",
       "    </tr>\n",
       "    <tr>\n",
       "      <th>12</th>\n",
       "      <td>760.0</td>\n",
       "      <td>716.28</td>\n",
       "      <td>169.00</td>\n",
       "      <td>43.72</td>\n",
       "      <td>0.00</td>\n",
       "    </tr>\n",
       "    <tr>\n",
       "      <th>13</th>\n",
       "      <td>754.0</td>\n",
       "      <td>716.28</td>\n",
       "      <td>127.08</td>\n",
       "      <td>37.72</td>\n",
       "      <td>0.00</td>\n",
       "    </tr>\n",
       "    <tr>\n",
       "      <th>14</th>\n",
       "      <td>700.0</td>\n",
       "      <td>700.00</td>\n",
       "      <td>127.08</td>\n",
       "      <td>0.00</td>\n",
       "      <td>0.00</td>\n",
       "    </tr>\n",
       "    <tr>\n",
       "      <th>15</th>\n",
       "      <td>686.0</td>\n",
       "      <td>686.00</td>\n",
       "      <td>127.08</td>\n",
       "      <td>0.00</td>\n",
       "      <td>0.00</td>\n",
       "    </tr>\n",
       "    <tr>\n",
       "      <th>16</th>\n",
       "      <td>720.0</td>\n",
       "      <td>716.28</td>\n",
       "      <td>122.95</td>\n",
       "      <td>3.72</td>\n",
       "      <td>0.00</td>\n",
       "    </tr>\n",
       "    <tr>\n",
       "      <th>17</th>\n",
       "      <td>714.0</td>\n",
       "      <td>714.00</td>\n",
       "      <td>122.95</td>\n",
       "      <td>0.00</td>\n",
       "      <td>0.00</td>\n",
       "    </tr>\n",
       "    <tr>\n",
       "      <th>18</th>\n",
       "      <td>761.0</td>\n",
       "      <td>716.28</td>\n",
       "      <td>73.25</td>\n",
       "      <td>44.72</td>\n",
       "      <td>0.00</td>\n",
       "    </tr>\n",
       "    <tr>\n",
       "      <th>19</th>\n",
       "      <td>727.0</td>\n",
       "      <td>716.28</td>\n",
       "      <td>61.34</td>\n",
       "      <td>10.72</td>\n",
       "      <td>0.00</td>\n",
       "    </tr>\n",
       "    <tr>\n",
       "      <th>20</th>\n",
       "      <td>714.0</td>\n",
       "      <td>712.80</td>\n",
       "      <td>60.00</td>\n",
       "      <td>1.20</td>\n",
       "      <td>0.00</td>\n",
       "    </tr>\n",
       "    <tr>\n",
       "      <th>21</th>\n",
       "      <td>618.0</td>\n",
       "      <td>618.00</td>\n",
       "      <td>60.00</td>\n",
       "      <td>0.00</td>\n",
       "      <td>0.00</td>\n",
       "    </tr>\n",
       "    <tr>\n",
       "      <th>22</th>\n",
       "      <td>584.0</td>\n",
       "      <td>584.00</td>\n",
       "      <td>60.00</td>\n",
       "      <td>0.00</td>\n",
       "      <td>0.00</td>\n",
       "    </tr>\n",
       "    <tr>\n",
       "      <th>23</th>\n",
       "      <td>578.0</td>\n",
       "      <td>582.05</td>\n",
       "      <td>63.85</td>\n",
       "      <td>0.00</td>\n",
       "      <td>4.05</td>\n",
       "    </tr>\n",
       "    <tr>\n",
       "      <th>24</th>\n",
       "      <td>544.0</td>\n",
       "      <td>582.05</td>\n",
       "      <td>100.00</td>\n",
       "      <td>0.00</td>\n",
       "      <td>38.05</td>\n",
       "    </tr>\n",
       "  </tbody>\n",
       "</table>\n",
       "</div>"
      ],
      "text/plain": [
       "       Lt     P'g     SOC     PD     Pc\n",
       "1   510.0  555.92  143.62   0.00  45.92\n",
       "2   530.0  555.92  168.25   0.00  25.92\n",
       "3   516.0  555.92  206.17   0.00  39.92\n",
       "4   510.0  555.92  249.80   0.00  45.92\n",
       "5   515.0  555.92  288.67   0.00  40.92\n",
       "6   544.0  555.92  300.00   0.00  11.92\n",
       "7   646.0  646.00  300.00   0.00   0.00\n",
       "8   686.0  686.00  300.00   0.00   0.00\n",
       "9   741.0  716.28  272.53  24.72   0.00\n",
       "10  734.0  716.28  252.83  17.72   0.00\n",
       "11  748.0  716.28  217.58  31.72   0.00\n",
       "12  760.0  716.28  169.00  43.72   0.00\n",
       "13  754.0  716.28  127.08  37.72   0.00\n",
       "14  700.0  700.00  127.08   0.00   0.00\n",
       "15  686.0  686.00  127.08   0.00   0.00\n",
       "16  720.0  716.28  122.95   3.72   0.00\n",
       "17  714.0  714.00  122.95   0.00   0.00\n",
       "18  761.0  716.28   73.25  44.72   0.00\n",
       "19  727.0  716.28   61.34  10.72   0.00\n",
       "20  714.0  712.80   60.00   1.20   0.00\n",
       "21  618.0  618.00   60.00   0.00   0.00\n",
       "22  584.0  584.00   60.00   0.00   0.00\n",
       "23  578.0  582.05   63.85   0.00   4.05\n",
       "24  544.0  582.05  100.00   0.00  38.05"
      ]
     },
     "execution_count": 81,
     "metadata": {},
     "output_type": "execute_result"
    }
   ],
   "source": [
    "data_tables.columns = [\"Lt\",\"P'g\",'SOC','PD','Pc']\n",
    "data_tables"
   ]
  },
  {
   "cell_type": "code",
   "execution_count": null,
   "id": "638dc4a8",
   "metadata": {},
   "outputs": [],
   "source": []
  },
  {
   "cell_type": "code",
   "execution_count": 82,
   "id": "01319350",
   "metadata": {},
   "outputs": [
    {
     "data": {
      "image/png": "[encoded data removed]",
      "text/plain": [
       "<Figure size 800x300 with 1 Axes>"
      ]
     },
     "metadata": {},
     "output_type": "display_data"
    }
   ],
   "source": [
    "plt.figure(figsize=(8, 3))\n",
    "plt.plot(t_hours, L_lst, '-')\n",
    "\n",
    "plt.xlabel('Time (h)')\n",
    "plt.ylabel('Demand (MW)')\n",
    "plt.title('Daily load pattern')\n",
    "xticks = range(1,25)\n",
    "plt.xticks(t_hours, xticks)\n",
    "plt.grid()\n",
    "plt.show()"
   ]
  },
  {
   "cell_type": "code",
   "execution_count": null,
   "id": "60bcd501",
   "metadata": {},
   "outputs": [],
   "source": []
  },
  {
   "cell_type": "code",
   "execution_count": 83,
   "id": "24de9c56",
   "metadata": {
    "colab": {
     "base_uri": "https://localhost:8080/",
     "height": 333
    },
    "id": "24de9c56",
    "outputId": "58869e53-fc29-4a1c-c432-62eca825ed63"
   },
   "outputs": [
    {
     "data": {
      "image/png": "[encoded data removed]",
      "text/plain": [
       "<Figure size 800x300 with 1 Axes>"
      ]
     },
     "metadata": {},
     "output_type": "display_data"
    }
   ],
   "source": [
    "plt.figure(figsize=(8, 3))\n",
    "plt.plot(t_hours, L_lst,   '-',  linewidth=2, label='Demand')\n",
    "plt.plot(t_hours, pg_lst,  '--',  linewidth=2, label='Total electricity output')\n",
    "plt.plot(t_hours, soc_lst, 'o-', color='black', label='State of charge of Storage')\n",
    "\n",
    "plt.ylim([0,800])\n",
    "plt.xlabel('Time (h)')\n",
    "plt.ylabel('Power (MW)')\n",
    "plt.title('Demand, Generation and Storage')\n",
    "xticks = range(1,25)\n",
    "plt.xticks(t_hours, xticks)\n",
    "plt.legend()\n",
    "plt.grid()\n",
    "plt.show()"
   ]
  },
  {
   "cell_type": "code",
   "execution_count": 84,
   "id": "bf9bf29a",
   "metadata": {},
   "outputs": [
    {
     "data": {
      "image/png": "[encoded data removed]",
      "text/plain": [
       "<Figure size 800x300 with 1 Axes>"
      ]
     },
     "metadata": {},
     "output_type": "display_data"
    }
   ],
   "source": [
    "plt.figure(figsize=(8, 3))\n",
    "plt.plot(t_hours, L_lst,   '-',  linewidth=2, label='Demand')\n",
    "plt.plot(t_hours, pg_lst,  '--',  linewidth=2, label='Total electricity output')\n",
    "plt.plot(t_hours, pc_lst, 'o-', color='red', label='Charge of Storage')\n",
    "plt.plot(t_hours, pd_lst, 'o-', color='blue', label='Discharge of Storage')\n",
    "\n",
    "plt.ylim([0,800])\n",
    "plt.xlabel('Time (h)')\n",
    "plt.ylabel('Power (MW)')\n",
    "plt.title('Demand, Generation and Storage')\n",
    "xticks = range(1,25)\n",
    "plt.xticks(t_hours, xticks)\n",
    "plt.legend()\n",
    "plt.grid()\n",
    "plt.show()"
   ]
  },
  {
   "cell_type": "code",
   "execution_count": null,
   "id": "147c84e4",
   "metadata": {},
   "outputs": [],
   "source": []
  },
  {
   "cell_type": "code",
   "execution_count": null,
   "id": "a3e54540",
   "metadata": {},
   "outputs": [],
   "source": []
  },
  {
   "cell_type": "code",
   "execution_count": 85,
   "id": "5a1cb771",
   "metadata": {
    "colab": {
     "base_uri": "https://localhost:8080/",
     "height": 564
    },
    "id": "5a1cb771",
    "outputId": "59a91f9e-ac75-49b9-f98e-2fa4d704f63e"
   },
   "outputs": [
    {
     "data": {
      "image/png": "[encoded data removed]",
      "text/plain": [
       "<Figure size 2000x600 with 1 Axes>"
      ]
     },
     "metadata": {},
     "output_type": "display_data"
    }
   ],
   "source": [
    "plt.figure(figsize=(20, 6))\n",
    "plt.bar(t_hours, pc_lst,color='purple', label='Charge (Ptc)')\n",
    "plt.bar(t_hours, pd_lst, color='yellow', label='Discharge (Ptd)')\n",
    "plt.xlabel('Time (h)')\n",
    "plt.ylabel('Charge/discharge (MW)')\n",
    "plt.title('Charge/Discharge vs Time')\n",
    "plt.xticks(t_hours, xticks)\n",
    "plt.ylim(0,60)\n",
    "plt.legend()\n",
    "plt.grid()\n",
    "plt.show()"
   ]
  },
  {
   "cell_type": "code",
   "execution_count": null,
   "id": "c1193bc6",
   "metadata": {},
   "outputs": [],
   "source": []
  },
  {
   "cell_type": "code",
   "execution_count": null,
   "id": "86382329",
   "metadata": {},
   "outputs": [],
   "source": []
  },
  {
   "cell_type": "code",
   "execution_count": 86,
   "id": "adb98dce",
   "metadata": {},
   "outputs": [],
   "source": [
    "g1_values = [model.p['p1', t].value for t in model.t_hours]\n",
    "g2_values = [model.p['p2', t].value for t in model.t_hours]\n",
    "g3_values = [model.p['p3', t].value for t in model.t_hours]\n",
    "g4_values = [model.p['p4', t].value for t in model.t_hours]"
   ]
  },
  {
   "cell_type": "code",
   "execution_count": 87,
   "id": "659edb19",
   "metadata": {},
   "outputs": [
    {
     "data": {
      "text/plain": [
       "list"
      ]
     },
     "execution_count": 87,
     "metadata": {},
     "output_type": "execute_result"
    }
   ],
   "source": [
    "type(g1_values)"
   ]
  },
  {
   "cell_type": "code",
   "execution_count": 88,
   "id": "af0eee51",
   "metadata": {},
   "outputs": [
    {
     "data": {
      "text/plain": [
       "[180.82691928051847,\n",
       " 180.82691928126434,\n",
       " 180.82691928111137,\n",
       " 180.82691928099777,\n",
       " 180.82691928124248,\n",
       " 180.82691928264637,\n",
       " 199.99999999950333,\n",
       " 199.99999999978746,\n",
       " 199.99999999986264,\n",
       " 199.99999999986264,\n",
       " 199.99999999986264,\n",
       " 199.99999999986264,\n",
       " 199.99999999986264,\n",
       " 199.9999999998229,\n",
       " 199.99999999978746,\n",
       " 199.99999999986264,\n",
       " 199.99999999985786,\n",
       " 199.99999999986264,\n",
       " 199.99999999986264,\n",
       " 199.99999999986264,\n",
       " 198.2660969568827,\n",
       " 189.77649497382893,\n",
       " 189.15581211527189,\n",
       " 189.15581211181376]"
      ]
     },
     "execution_count": 88,
     "metadata": {},
     "output_type": "execute_result"
    }
   ],
   "source": [
    "g1_values #output in MW from the first power station."
   ]
  },
  {
   "cell_type": "code",
   "execution_count": 89,
   "id": "7ce79919",
   "metadata": {},
   "outputs": [
    {
     "data": {
      "image/png": "[encoded data removed]",
      "text/plain": [
       "<Figure size 800x600 with 1 Axes>"
      ]
     },
     "metadata": {},
     "output_type": "display_data"
    }
   ],
   "source": [
    "plt.figure(figsize=(8, 6))\n",
    "plt.plot(t_hours, g1_values, 'o-', color='red', label='Generator p1')\n",
    "plt.plot(t_hours, g2_values, 'o-', color='purple',label='Generator p2')\n",
    "plt.plot(t_hours, g3_values, '-',  color='black',   label='Generator p3')\n",
    "plt.plot(t_hours, g4_values, '-',  color='orange', label='Generator p4')\n",
    "plt.xlabel('Time (h)')\n",
    "plt.ylabel('Output (MW)')\n",
    "plt.title('Daily Generator output')\n",
    "plt.xticks(t_hours, xticks)\n",
    "plt.legend()\n",
    "plt.grid()\n",
    "plt.show()"
   ]
  },
  {
   "cell_type": "code",
   "execution_count": null,
   "id": "84cbc94f",
   "metadata": {},
   "outputs": [],
   "source": []
  },
  {
   "cell_type": "code",
   "execution_count": null,
   "id": "06a6ce11",
   "metadata": {},
   "outputs": [],
   "source": []
  }
 ],
 "metadata": {
  "colab": {
   "provenance": []
  },
  "kernelspec": {
   "display_name": "Python 3 (ipykernel)",
   "language": "python",
   "name": "python3"
  },
  "language_info": {
   "codemirror_mode": {
    "name": "ipython",
    "version": 3
   },
   "file_extension": ".py",
   "mimetype": "text/x-python",
   "name": "python",
   "nbconvert_exporter": "python",
   "pygments_lexer": "ipython3",
   "version": "3.9.13"
  }
 },
 "nbformat": 4,
 "nbformat_minor": 5
}
