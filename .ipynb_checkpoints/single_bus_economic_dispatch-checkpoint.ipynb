{
 "cells": [
  {
   "cell_type": "markdown",
   "id": "c0665553-ea36-41d2-bb1d-1e14928823fb",
   "metadata": {},
   "source": [
    "## Single Bus Economic Dispatch"
   ]
  },
  {
   "cell_type": "code",
   "execution_count": 4,
   "id": "89931b21-4ffe-4e04-bd0e-11b47a08fb9a",
   "metadata": {},
   "outputs": [],
   "source": [
    "# Import Libraries\n",
    "import numpy as np\n",
    "import pandas as pd\n",
    "from pyomo.environ import *\n",
    "from pyomo.opt import SolverFactory\n",
    "from matplotlib import pyplot as plt"
   ]
  },
  {
   "cell_type": "markdown",
   "id": "03e7a6e9-74bc-4800-b1ff-f53f1cdc0ab1",
   "metadata": {},
   "source": [
    "## Input Parameters"
   ]
  },
  {
   "cell_type": "code",
   "execution_count": 15,
   "id": "f287b5b7-70e1-42c3-8c48-52120e7cbb75",
   "metadata": {},
   "outputs": [
    {
     "data": {
      "text/plain": [
       "{('p1', 'a'): None,\n",
       " ('p1', 'b'): None,\n",
       " ('p1', 'c'): None,\n",
       " ('p1', 'd'): None,\n",
       " ('p1', 'e'): None,\n",
       " ('p1', 'f'): None,\n",
       " ('p1', 'Pmin'): None,\n",
       " ('p1', 'Pmax'): None,\n",
       " ('p1', 'RU'): None,\n",
       " ('p1', 'RD'): None,\n",
       " ('p2', 'a'): None,\n",
       " ('p2', 'b'): None,\n",
       " ('p2', 'c'): None,\n",
       " ('p2', 'd'): None,\n",
       " ('p2', 'e'): None,\n",
       " ('p2', 'f'): None,\n",
       " ('p2', 'Pmin'): None,\n",
       " ('p2', 'Pmax'): None,\n",
       " ('p2', 'RU'): None,\n",
       " ('p2', 'RD'): None,\n",
       " ('p3', 'a'): None,\n",
       " ('p3', 'b'): None,\n",
       " ('p3', 'c'): None,\n",
       " ('p3', 'd'): None,\n",
       " ('p3', 'e'): None,\n",
       " ('p3', 'f'): None,\n",
       " ('p3', 'Pmin'): None,\n",
       " ('p3', 'Pmax'): None,\n",
       " ('p3', 'RU'): None,\n",
       " ('p3', 'RD'): None,\n",
       " ('p4', 'a'): None,\n",
       " ('p4', 'b'): None,\n",
       " ('p4', 'c'): None,\n",
       " ('p4', 'd'): None,\n",
       " ('p4', 'e'): None,\n",
       " ('p4', 'f'): None,\n",
       " ('p4', 'Pmin'): None,\n",
       " ('p4', 'Pmax'): None,\n",
       " ('p4', 'RU'): None,\n",
       " ('p4', 'RD'): None}"
      ]
     },
     "execution_count": 15,
     "metadata": {},
     "output_type": "execute_result"
    }
   ],
   "source": [
    "# Constant parameters\n",
    "SOC0 = 100       # Battery state of charge at t=0 [MWh]\n",
    "SOCmax = 300     # Maximum battery charge [MWh]\n",
    "etac = 0.95      # Battery charging efficiency\n",
    "etad = 0.95      # Battery discharging efficiency\n",
    "\n",
    "# Hours of dispatch\n",
    "t_hours = []\n",
    "for i in np.arange(1,25):\n",
    "    t_hours.append(\"t\" + str(i))\n",
    "\n",
    "# Power of Generation Units\n",
    "gen_units = []\n",
    "for i in np.arange(1,5):\n",
    "    gen_units.append(\"p\" + str(i))\n",
    "\n",
    "# Generation Units Properties\n",
    "gen_props = ['a','b','c','d','e','f','Pmin','Pmax','RU','RD']\n",
    "\n",
    "# Generation Units Data\n",
    "gendata = {}\n",
    "for unit in gen_units:\n",
    "    for prop in gen_props:\n",
    "        gendata[(unit,prop)] = None\n",
    "\n",
    "gendata"
   ]
  },
  {
   "cell_type": "code",
   "execution_count": 11,
   "id": "d4324354-5b3b-41b1-ada6-d7264a0dd6d6",
   "metadata": {},
   "outputs": [
    {
     "data": {
      "text/plain": [
       "list"
      ]
     },
     "execution_count": 11,
     "metadata": {},
     "output_type": "execute_result"
    }
   ],
   "source": []
  },
  {
   "cell_type": "code",
   "execution_count": null,
   "id": "1f643117-1deb-4a88-ae46-5242ff80ee3a",
   "metadata": {},
   "outputs": [],
   "source": []
  }
 ],
 "metadata": {
  "kernelspec": {
   "display_name": "myenv",
   "language": "python",
   "name": "myenv"
  },
  "language_info": {
   "codemirror_mode": {
    "name": "ipython",
    "version": 3
   },
   "file_extension": ".py",
   "mimetype": "text/x-python",
   "name": "python",
   "nbconvert_exporter": "python",
   "pygments_lexer": "ipython3",
   "version": "3.8.10"
  }
 },
 "nbformat": 4,
 "nbformat_minor": 5
}
