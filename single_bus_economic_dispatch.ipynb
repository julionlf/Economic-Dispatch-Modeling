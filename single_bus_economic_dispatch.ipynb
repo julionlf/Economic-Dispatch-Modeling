{
 "cells": [
  {
   "cell_type": "markdown",
   "id": "c0665553-ea36-41d2-bb1d-1e14928823fb",
   "metadata": {},
   "source": [
    "## Single Bus Economic Dispatch"
   ]
  },
  {
   "cell_type": "code",
   "execution_count": 1,
   "id": "89931b21-4ffe-4e04-bd0e-11b47a08fb9a",
   "metadata": {},
   "outputs": [],
   "source": [
    "# Import Libraries\n",
    "import numpy as np\n",
    "import pandas as pd\n",
    "from pyomo.environ import *\n",
    "from pyomo.opt import SolverFactory\n",
    "from matplotlib import pyplot as plt"
   ]
  },
  {
   "cell_type": "markdown",
   "id": "03e7a6e9-74bc-4800-b1ff-f53f1cdc0ab1",
   "metadata": {},
   "source": [
    "## Input Parameters"
   ]
  },
  {
   "cell_type": "code",
   "execution_count": 2,
   "id": "f287b5b7-70e1-42c3-8c48-52120e7cbb75",
   "metadata": {},
   "outputs": [],
   "source": [
    "# Constant parameters\n",
    "SOC0 = 100       # Battery state of charge at t=0 [MWh]\n",
    "SOCmax = 300     # Maximum battery charge [MWh]\n",
    "etac = 0.95      # Battery charging efficiency\n",
    "etad = 0.95      # Battery discharging efficiency\n",
    "\n",
    "# Hours of dispatch\n",
    "t_hours = []\n",
    "for i in np.arange(1,25):\n",
    "    t_hours.append(\"t\" + str(i))\n",
    "\n",
    "# Power of Generation Units\n",
    "gen_units = []\n",
    "for i in np.arange(1,5):\n",
    "    gen_units.append(\"p\" + str(i))\n",
    "\n",
    "'''\n",
    "# Generation Units Properties\n",
    "gen_props = ['a','b','c','d','e','f','Pmin','Pmax','RU','RD']\n",
    "\n",
    "# Generation Units Data\n",
    "gendata = {}\n",
    "for unit in gen_units:\n",
    "    for prop in gen_props:\n",
    "        gendata[(unit,prop)] = None\n",
    "\n",
    "gendata\n",
    "'''\n",
    "\n",
    "# a is in $ / MW^2   . fuel cost coefficient for a thermal unit\n",
    "# b is in $ / MW       fuel cost coefficient for a thermal unit\n",
    "# c is in $            fuel cost coefficient for a thermal unit\n",
    "# d is in kg CO2 / MW^2    emissions coefficient for a thermal unit\n",
    "# e is in kg CO2 / MW      emissions coefficient for a thermal unit\n",
    "# f is in kg CO2          emissions coefficient for a thermal unit\n",
    "# Pmin, Pmax are in MW.  Min and Max output limits for a thermal unit\n",
    "# RU, RD are in MW       Ramp up / down rates for a thermal unit\n",
    "\n",
    "#this is a dictionary . The key is a tuple. \n",
    "\n",
    "gendata = {\n",
    "    ('p1', 'a'): 0.12, \n",
    "    ('p1', 'b'): 14.80, \n",
    "    ('p1', 'c'):  89, \n",
    "    ('p1', 'd'): 1.2, \n",
    "    ('p1', 'e'): -5.00, \n",
    "    ('p1', 'f'): 3.00, \n",
    "    ('p1', 'Pmin'): 28, \n",
    "    ('p1', 'Pmax'): 200, \n",
    "    ('p1', 'RU0'): 40, \n",
    "    ('p1', 'RD0'): 40,\n",
    "    \n",
    "    ('p2', 'a'): 0.17, \n",
    "    ('p2', 'b'): 16.57, \n",
    "    ('p2', 'c'):  83, \n",
    "    ('p2', 'd'): 2.3, \n",
    "    ('p2', 'e'): -4.24, \n",
    "    ('p2', 'f'): 6.09, \n",
    "    ('p2', 'Pmin'): 20, \n",
    "    ('p2', 'Pmax'): 290, \n",
    "    ('p2', 'RU0'): 30, \n",
    "    ('p2', 'RD0'): 30,\n",
    "    \n",
    "    ('p3', 'a'): 0.15, \n",
    "    ('p3', 'b'): 15.55, \n",
    "    ('p3', 'c'): 100, \n",
    "    ('p3', 'd'): 1.1, \n",
    "    ('p3', 'e'): -2.15, \n",
    "    ('p3', 'f'): 5.69, \n",
    "    ('p3', 'Pmin'): 30, \n",
    "    ('p3', 'Pmax'): 190, \n",
    "    ('p3', 'RU0'): 30, \n",
    "    ('p3', 'RD0'): 30,\n",
    "    \n",
    "    ('p4', 'a'): 0.19, \n",
    "    ('p4', 'b'): 16.21, \n",
    "    ('p4', 'c'):  70, \n",
    "    ('p4', 'd'): 1.1, \n",
    "    ('p4', 'e'): -3.99, \n",
    "    ('p4', 'f'): 6.20, \n",
    "    ('p4', 'Pmin'): 20, \n",
    "    ('p4', 'Pmax'): 260, \n",
    "    ('p4', 'RU0'): 50, \n",
    "    ('p4', 'RD0'): 50\n",
    "}"
   ]
  },
  {
   "cell_type": "code",
   "execution_count": 3,
   "id": "d0cb9f41-ada6-46e5-922d-83ae1cf68404",
   "metadata": {},
   "outputs": [],
   "source": [
    "# Demand Data\n",
    "data = {\n",
    "    ('t1', 'load'):  510, \n",
    "    ('t2', 'load'):  530, \n",
    "    ('t3', 'load'):  516, \n",
    "    ('t4', 'load'):  510,  \n",
    "    ('t5', 'load'):  515,  \n",
    "    ('t6', 'load'):  544,  \n",
    "    ('t7', 'load'):  646,  \n",
    "    ('t8', 'load'):  686,  \n",
    "    ('t9', 'load'):  741,  \n",
    "    ('t10', 'load'): 734,  \n",
    "    ('t11', 'load'): 748,  \n",
    "    ('t12', 'load'): 760,  \n",
    "    ('t13', 'load'): 754,  \n",
    "    ('t14', 'load'): 700,  \n",
    "    ('t15', 'load'): 686,  \n",
    "    ('t16', 'load'): 720,  \n",
    "    ('t17', 'load'): 714,  \n",
    "    ('t18', 'load'): 761,  \n",
    "    ('t19', 'load'): 727,  \n",
    "    ('t20', 'load'): 714,  \n",
    "    ('t21', 'load'): 618, \n",
    "    ('t22', 'load'): 584,  \n",
    "    ('t23', 'load'): 578,  \n",
    "    ('t24', 'load'): 544,  \n",
    "}"
   ]
  },
  {
   "cell_type": "markdown",
   "id": "31f17d6e-a4dc-417d-a3e4-a728c61fa387",
   "metadata": {},
   "source": [
    "## Define Optimization Model"
   ]
  },
  {
   "cell_type": "code",
   "execution_count": 4,
   "id": "5f5eeb0d-b593-4637-a093-4c1a79d4f74a",
   "metadata": {},
   "outputs": [],
   "source": [
    "# Create model object\n",
    "model = ConcreteModel()\n",
    "model.name = \"ESS DED\""
   ]
  },
  {
   "cell_type": "code",
   "execution_count": 5,
   "id": "946fe083-99af-4b88-9715-0daae3829ede",
   "metadata": {},
   "outputs": [],
   "source": [
    "# Define model sets\n",
    "model.t_hours = Set(initialize=t_hours)\n",
    "model.gen_units = Set(initialize=gen_units)"
   ]
  },
  {
   "cell_type": "code",
   "execution_count": 6,
   "id": "6784c561-b39f-4ae8-b057-775a9b75a621",
   "metadata": {},
   "outputs": [],
   "source": [
    "# Define Decision Variables\n",
    "model.p = Var(model.gen_units, model.t_hours, bounds = lambda model, g, t: (gendata[g,\"Pmin\"], gendata[g,\"Pmax\"]) )\n",
    "model.SOC = Var(model.t_hours, bounds = lambda model, t: (0.2*SOCmax, SOCmax) ) # Later test if the formulation below works\n",
    "model.Pd = Var(model.t_hours, bounds = (0, 0.2*SOCmax))\n",
    "model.Pc = Var(model.t_hours, bounds = (0, 0.2*SOCmax))"
   ]
  },
  {
   "cell_type": "code",
   "execution_count": 7,
   "id": "1cfbc07f-a0d1-4b0b-9d0e-5fa450da6971",
   "metadata": {},
   "outputs": [],
   "source": [
    "# Fix the State of Charge at time = 24 to match at time = 0\n",
    "model.SOC['t24'].fix(SOC0)"
   ]
  },
  {
   "cell_type": "code",
   "execution_count": 8,
   "id": "daa517fe-9961-469b-8bca-726934d0e4fc",
   "metadata": {},
   "outputs": [],
   "source": [
    "# Define objective function\n",
    "model.cost = Objective(\n",
    "\n",
    "    # Define objective function as an expression that iterates over time and generation units.\n",
    "    expr = sum( gendata[g,'a']*model.p[g, t]**2 + gendata[g,'b']*model.p[g,t] + gendata[g,'c']\n",
    "              for t in model.t_hours for g in model.gen_units),\n",
    "\n",
    "    # Define that the objective is to minimize the function\n",
    "    sense = minimize\n",
    "    \n",
    ")"
   ]
  },
  {
   "cell_type": "code",
   "execution_count": 9,
   "id": "5ce9076a-398e-455c-b8e7-1dcb0cb1ef56",
   "metadata": {},
   "outputs": [],
   "source": [
    "# Define Constraints\n",
    "\n",
    "model.Genconst3 = Constraint(    # Ramp-up constraints\n",
    "    model.gen_units,\n",
    "    model.t_hours,\n",
    "    rule = lambda model, g, t: model.p[g,t] - model.p[g,t_hours[t_hours.index(t) - 1]] <= gendata[g,'RU0']\n",
    ")\n",
    "\n",
    "model.Genconst4 = Constraint(    # Ramp-down constraints\n",
    "    model.gen_units,\n",
    "    model.t_hours,\n",
    "    rule = lambda model, g, t: model.p[g,t] - model.p[g,t_hours[t_hours.index(t) - 1]] <= gendata[g,'RD0']\n",
    ")\n",
    "\n",
    "# State of Charge Constraints: output of constraint function is a true/false boolean to test if equality holds\n",
    "def constESS1_rule(model,t):\n",
    "    if t == 't1':\n",
    "        return model.SOC[t] == SOC0 + model.Pc[t]*etac - model.Pd[t]/etad\n",
    "    else:\n",
    "        return model.SOC[t] == model.SOC[t_hours[t_hours.index(t)-1]] + model.Pc[t]*etac - model.Pd[t]/etad\n",
    "\n",
    "model.constESS1 = Constraint(model.t_hours, rule = constESS1_rule)\n",
    "\n",
    "# Power Balance Constraint: Total Generation and discharge must be equal to consumption and charging\n",
    "model.balance = Constraint(\n",
    "    model.t_hours,\n",
    "    rule = lambda model, t: sum(model.p[g,t] for g in model.gen_units) +\n",
    "    model.Pd[t] == data[t, 'load'] + model.Pc[t]\n",
    ")"
   ]
  },
  {
   "cell_type": "markdown",
   "id": "7049fe10-66a1-4b3c-a5be-bcfc91f77bc6",
   "metadata": {},
   "source": [
    "## Solve the Model"
   ]
  },
  {
   "cell_type": "code",
   "execution_count": 10,
   "id": "d025d49c-993c-417b-b5d6-b026baf88389",
   "metadata": {},
   "outputs": [],
   "source": [
    "# Define the solver\n",
    "# NOTE: installed gurobipy instead\n",
    "solver = SolverFactory('gurobi')"
   ]
  },
  {
   "cell_type": "code",
   "execution_count": 11,
   "id": "b1b782c1-5dff-4c59-99b0-6b73d6dfed70",
   "metadata": {},
   "outputs": [],
   "source": [
    "# Call the solver\n",
    "results = solver.solve(model)"
   ]
  },
  {
   "cell_type": "code",
   "execution_count": 12,
   "id": "1ac847cd-46ed-45e3-925d-30021f547357",
   "metadata": {},
   "outputs": [
    {
     "data": {
      "text/plain": [
       "{'Problem': [{'Name': 'x1', 'Lower bound': 644624.1283529727, 'Upper bound': 644624.1283529727, 'Number of objectives': 1, 'Number of constraints': 240, 'Number of variables': 168, 'Number of binary variables': 0, 'Number of integer variables': 0, 'Number of continuous variables': 168, 'Number of nonzeros': 622, 'Sense': 'minimize'}], 'Solver': [{'Status': 'ok', 'Return code': 0, 'Message': 'Model was solved to optimality (subject to tolerances), and an optimal solution is available.', 'Termination condition': 'optimal', 'Termination message': 'Model was solved to optimality (subject to tolerances), and an optimal solution is available.', 'Wall time': 0.005911111831665039, 'Error rc': 0}], 'Solution': [OrderedDict([('number of solutions', 0), ('number of solutions displayed', 0)])]}"
      ]
     },
     "execution_count": 12,
     "metadata": {},
     "output_type": "execute_result"
    }
   ],
   "source": [
    "results"
   ]
  },
  {
   "cell_type": "markdown",
   "id": "1e5ca4fe-a7a9-448c-8a07-279c54182a98",
   "metadata": {},
   "source": [
    "## Get Results"
   ]
  },
  {
   "cell_type": "code",
   "execution_count": 13,
   "id": "8bc11ab1-ceda-4a88-9fd3-e9a725d5ed9f",
   "metadata": {},
   "outputs": [],
   "source": [
    "# Generate a list of generation over time\n",
    "pg_list = []\n",
    "for t in model.t_hours:\n",
    "    val = 0\n",
    "    \n",
    "    # We will plot total generation across all plants, therefore we sum their individual contributions by each hour\n",
    "    for g in model.gen_units:\n",
    "        val += model.p[g,t].value\n",
    "\n",
    "    pg_list.append(val)"
   ]
  },
  {
   "cell_type": "code",
   "execution_count": 14,
   "id": "b6f6f19c-a209-4820-980c-158f2e605b51",
   "metadata": {},
   "outputs": [
    {
     "data": {
      "text/html": [
       "<div>\n",
       "<style scoped>\n",
       "    .dataframe tbody tr th:only-of-type {\n",
       "        vertical-align: middle;\n",
       "    }\n",
       "\n",
       "    .dataframe tbody tr th {\n",
       "        vertical-align: top;\n",
       "    }\n",
       "\n",
       "    .dataframe thead th {\n",
       "        text-align: right;\n",
       "    }\n",
       "</style>\n",
       "<table border=\"1\" class=\"dataframe\">\n",
       "  <thead>\n",
       "    <tr style=\"text-align: right;\">\n",
       "      <th></th>\n",
       "      <th>Demand</th>\n",
       "      <th>Generation</th>\n",
       "    </tr>\n",
       "  </thead>\n",
       "  <tbody>\n",
       "    <tr>\n",
       "      <th>1</th>\n",
       "      <td>510.0</td>\n",
       "      <td>555.921053</td>\n",
       "    </tr>\n",
       "    <tr>\n",
       "      <th>2</th>\n",
       "      <td>530.0</td>\n",
       "      <td>555.921053</td>\n",
       "    </tr>\n",
       "    <tr>\n",
       "      <th>3</th>\n",
       "      <td>516.0</td>\n",
       "      <td>555.921053</td>\n",
       "    </tr>\n",
       "    <tr>\n",
       "      <th>4</th>\n",
       "      <td>510.0</td>\n",
       "      <td>555.921053</td>\n",
       "    </tr>\n",
       "    <tr>\n",
       "      <th>5</th>\n",
       "      <td>515.0</td>\n",
       "      <td>555.921053</td>\n",
       "    </tr>\n",
       "    <tr>\n",
       "      <th>6</th>\n",
       "      <td>544.0</td>\n",
       "      <td>555.921053</td>\n",
       "    </tr>\n",
       "    <tr>\n",
       "      <th>7</th>\n",
       "      <td>646.0</td>\n",
       "      <td>646.000000</td>\n",
       "    </tr>\n",
       "    <tr>\n",
       "      <th>8</th>\n",
       "      <td>686.0</td>\n",
       "      <td>686.000000</td>\n",
       "    </tr>\n",
       "    <tr>\n",
       "      <th>9</th>\n",
       "      <td>741.0</td>\n",
       "      <td>714.625002</td>\n",
       "    </tr>\n",
       "    <tr>\n",
       "      <th>10</th>\n",
       "      <td>734.0</td>\n",
       "      <td>714.625002</td>\n",
       "    </tr>\n",
       "    <tr>\n",
       "      <th>11</th>\n",
       "      <td>748.0</td>\n",
       "      <td>714.625002</td>\n",
       "    </tr>\n",
       "    <tr>\n",
       "      <th>12</th>\n",
       "      <td>760.0</td>\n",
       "      <td>714.625002</td>\n",
       "    </tr>\n",
       "    <tr>\n",
       "      <th>13</th>\n",
       "      <td>754.0</td>\n",
       "      <td>714.625002</td>\n",
       "    </tr>\n",
       "    <tr>\n",
       "      <th>14</th>\n",
       "      <td>700.0</td>\n",
       "      <td>700.000000</td>\n",
       "    </tr>\n",
       "    <tr>\n",
       "      <th>15</th>\n",
       "      <td>686.0</td>\n",
       "      <td>686.000000</td>\n",
       "    </tr>\n",
       "    <tr>\n",
       "      <th>16</th>\n",
       "      <td>720.0</td>\n",
       "      <td>714.625002</td>\n",
       "    </tr>\n",
       "    <tr>\n",
       "      <th>17</th>\n",
       "      <td>714.0</td>\n",
       "      <td>713.999997</td>\n",
       "    </tr>\n",
       "    <tr>\n",
       "      <th>18</th>\n",
       "      <td>761.0</td>\n",
       "      <td>714.625002</td>\n",
       "    </tr>\n",
       "    <tr>\n",
       "      <th>19</th>\n",
       "      <td>727.0</td>\n",
       "      <td>714.625002</td>\n",
       "    </tr>\n",
       "    <tr>\n",
       "      <th>20</th>\n",
       "      <td>714.0</td>\n",
       "      <td>713.999988</td>\n",
       "    </tr>\n",
       "    <tr>\n",
       "      <th>21</th>\n",
       "      <td>618.0</td>\n",
       "      <td>618.000000</td>\n",
       "    </tr>\n",
       "    <tr>\n",
       "      <th>22</th>\n",
       "      <td>584.0</td>\n",
       "      <td>584.000001</td>\n",
       "    </tr>\n",
       "    <tr>\n",
       "      <th>23</th>\n",
       "      <td>578.0</td>\n",
       "      <td>582.052631</td>\n",
       "    </tr>\n",
       "    <tr>\n",
       "      <th>24</th>\n",
       "      <td>544.0</td>\n",
       "      <td>582.052631</td>\n",
       "    </tr>\n",
       "  </tbody>\n",
       "</table>\n",
       "</div>"
      ],
      "text/plain": [
       "    Demand  Generation\n",
       "1    510.0  555.921053\n",
       "2    530.0  555.921053\n",
       "3    516.0  555.921053\n",
       "4    510.0  555.921053\n",
       "5    515.0  555.921053\n",
       "6    544.0  555.921053\n",
       "7    646.0  646.000000\n",
       "8    686.0  686.000000\n",
       "9    741.0  714.625002\n",
       "10   734.0  714.625002\n",
       "11   748.0  714.625002\n",
       "12   760.0  714.625002\n",
       "13   754.0  714.625002\n",
       "14   700.0  700.000000\n",
       "15   686.0  686.000000\n",
       "16   720.0  714.625002\n",
       "17   714.0  713.999997\n",
       "18   761.0  714.625002\n",
       "19   727.0  714.625002\n",
       "20   714.0  713.999988\n",
       "21   618.0  618.000000\n",
       "22   584.0  584.000001\n",
       "23   578.0  582.052631\n",
       "24   544.0  582.052631"
      ]
     },
     "execution_count": 14,
     "metadata": {},
     "output_type": "execute_result"
    }
   ],
   "source": [
    "# Store the demand and generation data in a dataframe\n",
    "demAndGen = pd.DataFrame([list(data.values()), pg_list]).T\n",
    "demAndGen.index = np.arange(1,25)\n",
    "demAndGen = demAndGen.rename(columns = {0:\"Demand\",1:\"Generation\"} )\n",
    "demAndGen"
   ]
  },
  {
   "cell_type": "markdown",
   "id": "820d2e7e-8847-45d7-9cdc-ad16b77cb50d",
   "metadata": {},
   "source": [
    "## Plot Results"
   ]
  },
  {
   "cell_type": "code",
   "execution_count": 22,
   "id": "58cc8cc4-6254-4225-a338-802be0245ed3",
   "metadata": {},
   "outputs": [
    {
     "data": {
      "image/png": "[encoded data removed]",
      "text/plain": [
       "<Figure size 900x300 with 1 Axes>"
      ]
     },
     "metadata": {},
     "output_type": "display_data"
    }
   ],
   "source": [
    "plt.figure(figsize=(9,3))\n",
    "plt.plot(t_hours,list(data.values()), label = \"Demand\")\n",
    "plt.plot(t_hours,pg_list, label = \"Generation\")\n",
    "\n",
    "plt.xlabel('Time [h]'), plt.ylabel('Power [MW]')\n",
    "xticks = range(1,25)\n",
    "plt.xticks(t_hours,xticks)\n",
    "plt.grid()\n",
    "plt.legend()\n",
    "plt.show()"
   ]
  },
  {
   "cell_type": "code",
   "execution_count": null,
   "id": "60744d25-75eb-4365-9414-4b1956405f6f",
   "metadata": {},
   "outputs": [],
   "source": []
  }
 ],
 "metadata": {
  "kernelspec": {
   "display_name": "myenv",
   "language": "python",
   "name": "myenv"
  },
  "language_info": {
   "codemirror_mode": {
    "name": "ipython",
    "version": 3
   },
   "file_extension": ".py",
   "mimetype": "text/x-python",
   "name": "python",
   "nbconvert_exporter": "python",
   "pygments_lexer": "ipython3",
   "version": "3.8.10"
  }
 },
 "nbformat": 4,
 "nbformat_minor": 5
}
